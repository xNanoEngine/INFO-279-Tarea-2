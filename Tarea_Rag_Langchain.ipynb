{
 "cells": [
  {
   "cell_type": "code",
   "execution_count": 1,
   "metadata": {},
   "outputs": [],
   "source": [
    "from langchain_openai import ChatOpenAI\n",
    "from langchain.prompts import PromptTemplate\n",
    "from langchain.agents import AgentType\n",
    "from langchain.agents import Tool, initialize_agent\n",
    "import chromadb\n",
    "from langchain.embeddings import OpenAIEmbeddings\n",
    "import pandas as pd\n",
    "import requests"
   ]
  },
  {
   "cell_type": "code",
   "execution_count": null,
   "metadata": {},
   "outputs": [
    {
     "name": "stderr",
     "output_type": "stream",
     "text": [
      "C:\\Users\\mati1\\AppData\\Local\\Temp\\ipykernel_20160\\4081575595.py:3: LangChainDeprecationWarning: The class `OpenAIEmbeddings` was deprecated in LangChain 0.0.9 and will be removed in 1.0. An updated version of the class exists in the :class:`~langchain-openai package and should be used instead. To use it run `pip install -U :class:`~langchain-openai` and import as `from :class:`~langchain_openai import OpenAIEmbeddings``.\n",
      "  embeddings = OpenAIEmbeddings(openai_api_key=api_key)\n"
     ]
    }
   ],
   "source": [
    "api_key = \"\"\n",
    "llm = ChatOpenAI(temperature=0.7, openai_api_key=api_key, model='gpt-4')\n",
    "embeddings = OpenAIEmbeddings(openai_api_key=api_key)\n",
    "chain =  llm"
   ]
  },
  {
   "cell_type": "code",
   "execution_count": 4,
   "metadata": {},
   "outputs": [],
   "source": [
    "client = chromadb.PersistentClient(path=\".\")\n",
    "doc_collection = client.get_or_create_collection(name=\"hidrogeno_verde\")"
   ]
  },
  {
   "cell_type": "code",
   "execution_count": 5,
   "metadata": {},
   "outputs": [],
   "source": [
    "def store_in_chromadb(documents, metadata_list):\n",
    "    for idx, (doc, metadata) in enumerate(zip(documents, metadata_list)):\n",
    "        embedding = embeddings.embed_query(doc)  # Genera el embedding\n",
    "        doc_collection.add(\n",
    "            ids=[str(idx)],  # ID único para cada documento\n",
    "            documents=[doc],  # Documento en formato texto\n",
    "            embeddings=[embedding],  # Embedding generado\n",
    "            metadatas=[metadata]  # Información adicional (opcional)\n",
    "        )\n"
   ]
  },
  {
   "cell_type": "code",
   "execution_count": null,
   "metadata": {},
   "outputs": [],
   "source": [
    "#Se puede omitir si ya tiene cargados los datos\n",
    "df = pd.read_csv('hidrogeno_verde.csv')\n",
    "df['date'] = pd.to_datetime(df['date'], format='%b %d, %Y @ %H:%M:%S.%f')\n",
    "df['date'] = df['date'].dt.strftime('%Y-%m-%d')\n",
    "df['combined'] = df['title'] + ' ' + df['text']\n",
    "documents = df['text'].tolist() \n",
    "metadata_list = df.drop(columns=['text']).to_dict(orient='records') \n",
    "\n",
    "# Almacenar en ChromaDB\n",
    "store_in_chromadb(documents, metadata_list)"
   ]
  },
  {
   "cell_type": "code",
   "execution_count": 6,
   "metadata": {},
   "outputs": [],
   "source": [
    "# Función para realizar la búsqueda en ChromaDB\n",
    "def search_in_chromadb(query):\n",
    "    # Realiza la búsqueda en ChromaDB utilizando la consulta\n",
    "    results = doc_collection.query(\n",
    "        query_embeddings=embeddings.embed_query(query),\n",
    "        n_results=3  # Número de resultados a obtener\n",
    "    )\n",
    "    return results"
   ]
  },
  {
   "cell_type": "code",
   "execution_count": 7,
   "metadata": {},
   "outputs": [
    {
     "name": "stderr",
     "output_type": "stream",
     "text": [
      "C:\\Users\\mati1\\AppData\\Local\\Temp\\ipykernel_20160\\4060135420.py:43: LangChainDeprecationWarning: The function `initialize_agent` was deprecated in LangChain 0.1.0 and will be removed in 1.0. Use :meth:`~Use new agent constructor methods like create_react_agent, create_json_agent, create_structured_chat_agent, etc.` instead.\n",
      "  agent = initialize_agent(\n"
     ]
    }
   ],
   "source": [
    "def search_tool(query):\n",
    "    search_results = search_in_chromadb(query)\n",
    "    return \"\\n\".join([str(doc) for doc in search_results['documents']])\n",
    "\n",
    "# Función para búsqueda en Wikipedia\n",
    "def wikipedia_search(query):\n",
    "    response = requests.get(f\"https://es.wikipedia.org/w/api.php\", params={\n",
    "        \"action\": \"query\",\n",
    "        \"format\": \"json\",\n",
    "        \"titles\": query,\n",
    "        \"prop\": \"extracts\",\n",
    "        \"exintro\": True\n",
    "    })\n",
    "    pages = response.json()['query']['pages']\n",
    "    page = next(iter(pages.values()))\n",
    "    return page.get('extract', \"No se encontró información en Wikipedia.\")\n",
    "# Crear herramientas\n",
    "tools = [\n",
    "    Tool(\n",
    "        name=\"ChromaDB Search\",\n",
    "        func=search_tool,\n",
    "        description=\"Busca en la base de datos de ChromaDB los documentos relevantes.\"\n",
    "    ),\n",
    "    Tool(\n",
    "        name=\"Wikipedia Search\",\n",
    "        func=wikipedia_search,\n",
    "        description=\"Consulta Wikipedia para obtener más información sobre el tema.\"\n",
    "    )\n",
    "]\n",
    "prompt_template = \"\"\"\n",
    "Eres un agente que puede interactuar con herramientas para obtener información relevante para responder preguntas. \n",
    "Tienes acceso a dos herramientas:\n",
    "\n",
    "1. **ChromaDB Search**: Busca en una base de datos de documentos para obtener información relevante.\n",
    "2. **Wikipedia Search**: Realiza una consulta a Wikipedia para obtener un resumen de un tema.\n",
    "\n",
    "Cuando recibas una pregunta, debes decidir qué herramienta usar y cómo responder de manera concisa y precisa. \n",
    "Si es posible, utiliza primero la búsqueda en ChromaDB, si no encuentras suficiente información, consulta Wikipedia.\n",
    "\"\"\"\n",
    "\n",
    "# Crear el PromptTemplate\n",
    "prompt = PromptTemplate(input_variables=[\"tools\", \"query\", \"agent_scratchpad\", \"tool_names\"], template=prompt_template)\n",
    "agent = initialize_agent(\n",
    "    tools=tools,\n",
    "    llm=llm,\n",
    "    agent_type=AgentType.ZERO_SHOT_REACT_DESCRIPTION,\n",
    "    verbose=True\n",
    ")\n",
    "\n",
    "\n"
   ]
  },
  {
   "cell_type": "code",
   "execution_count": 8,
   "metadata": {},
   "outputs": [
    {
     "name": "stdout",
     "output_type": "stream",
     "text": [
      "\n",
      "\n",
      "\u001b[1m> Entering new AgentExecutor chain...\u001b[0m\n",
      "\u001b[32;1m\u001b[1;3mPrimero necesito buscar información relevante sobre las declaraciones de Juan Carlos Jobet en relación al hidrógeno verde.\n",
      "Action: ChromaDB Search\n",
      "Action Input: Declaraciones de Juan Carlos Jobet sobre hidrógeno verde\u001b[0m\n",
      "Observation: \u001b[36;1m\u001b[1;3m['– Eliana Ximena Oyarzún Nancuante  “Les aseguro que este plan no va a quedar guardado en un cajón”, expresó el presidente Gabriel Boric, al momento de recibir el Plan de Acción de Hidrógeno Verde estructurado por un comité de diez expertos encabezados por el ex ministro de Energía del segundo gobierno de Sebastián Piñera, Juan Carlos Jobet. En su discurso la máxima autoridad nacional señaló que esta industria es una tremenda oportunidad que no se puede desaprovechar y que “el hidrógeno verde va a darnos mejores condiciones de vida”. El Mandatario confidenció que este es uno de los temas que mayor interés suscita en cada audiencia que tiene con líderes mundiales durante sus giras por Europa y Asia. En la ceremonia estuvieron presente la ex Presidenta Michelle Bachelet; el ex ministro de Energía, Juan Carlos Jobet, la rectora de la Universidad de Chile, Rosa Déves; el gobernador magallánico, Jorge Flies; entre otras autoridades. ¿En qué consiste en plan? El texto contempla 81 medidas, distribuidas en 18 líneas de trabajo, las que serán implementadas en dos etapas. La primera entre el 2023 y el 2026, explorará establecer las condiciones que permitan el desarrollo de la industria como un sistema de permisos eficientes, la existencia de incentivos tributarios y fomento a la investigación científica. A partir de 2026 y hasta 2030, se implementará la segunda etapa. Esta considera contar con\\xa0 instrumentos de ordenamiento territorial, regulatorios y preparar al capital humano para la concreción del desarrollo del H2V.', '– Eliana Ximena Oyarzún Nancuante “Les aseguro que este plan no va a quedar guardado en un cajón”, expresó el Presidente Gabriel Boric, al momento de recibir el Plan de Acción de Hidrógeno Verde realizado por un comité de diez expertos encabezados por el ex ministro de Energía del segundo gobierno de Sebastián Piñera, Juan Carlos Jobet. En su discurso la máxima autoridad del país señaló que esta industria es una tremenda oportunidad que no se puede desaprovechar y que “el hidrógeno verde va a darnos mejores condiciones de vida”. El Mandatario confidenció que este es uno de los temas que mayor interés suscita en cada audiencia que tiene con líderes mundiales durante sus giras por Europa y Asia. En la ceremonia estuvieron presentes la ex Presidenta Michelle Bachelet; el ex ministro de Energía, Juan Carlos Jobet, la rectora de la Universidad de Chile, Rosa Devés; el gobernador magallánico, Jorge Flies; entre otras autoridades. Todos ellos fueron parte de la comisión redactora de este plan. ¿En qué consiste el plan? El texto contempla 81 medidas, distribuidas en 18 líneas de trabajo, las que serán implementadas en dos etapas. La primera entre el 2023 y 2026, explorará establecer las condiciones que permitan el desarrollo de la industria como un sistema de permisos eficientes, la existencia de incentivos tributarios y fomento a la investigación científica. A partir de 2026 y hasta el 2030, se implementará la segunda etapa. Esta considera contar con\\xa0 instrumentos de ordenamiento territorial, regulatorios y preparar al capital humano para la concreción del desarrollo del H2V. Política de Estado El primer plan de Acción de Hidrógeno Verde fue realizado en 2020 durante el segundo gobierno de Sebastián Piñera. “Fue exitoso para atraer inversiones (…) ahora nos tenemos que poner acciones concretas y realizables”, expresó el ministro de Energía, Diego Pardow, quien definió esta estrategia como un esfuerzo del Estado que da certezas a una industria con un sinnúmero de incertidumbres. “Lo que se hizo fue pensar en Chile y lograr un acuerdo en el que todos puedan convivir”, dijo la ex Presidenta Michelle Bachelet durante la ceremonia. “Las cosas buenas no se hacen en cuatro años, son de largo plazo”, expresó en su alocución el ex ministro Jobet, quien valoró este plan porque todos los actores de la sociedad fueron capaces de sentarse en una mesa e imprimir esperanza. “No es fácil y menos en tiempos de polarización”, enfatizó. Durante su discurso el ex titular de Energía habló sobre las potencialidades que tiene esta industria para hacer frente al cambio climático y reducir las emisiones de gases de efecto invernadero. “Convierte rasgos geográficos negativos en energía para hacer el bien”, dijo haciendo referencia a lo difícil que es tener asentamientos humanos en la Patagonia a causa de las inclemencias climáticas. “El viento magallánico puede transformar la economía mundial”, sentenció. LECTURA:', 'Antes de que el ministro de Energía, Juan Carlos Jobet, asumiera en la cartera en junio de 2019, el Presidente Sebastián Piñera había viajado a China dos meses antes. \"Y cuando llegué al Ministerio, el Presidente me dijo que me metiera en el tema del hidrógeno verde, porque cuando estuvo allá se había dado cuenta del potencial enorme que había en torno a él.  Empecé a estudiarlo y nos dimos cuenta de que Chile tiene todo para ser potencia mundial \", cuenta Jobet. Poco más de un año después de la anécdota, la carrera mundial para producir el llamado \"combustible del futuro\" crece con fuerza. Es que la oportunidad de generar hidrógeno a bajo costo gracias a las energías renovables (de ahí el apellido de \"verde\"), promete incluso desplazar a los combustibles fósiles y hoy tiene al ministro ad portas de anunciar un hito en la materia:  una estrategia nacional, que trasciende al gobierno de turno, para su desarrollo. RelacionadasDetalle(1000610,1000331); \"Esto es grande, es un tema mundial, y en el análisis que hicimos nos dimos cuenta que teníamos que echar a andar un plan de largo plazo, que no fuera del Ministerio ni del Gobierno, sino que fuera una política de Estado\", dice a  Emol  el titular de Energía. Fue así que en mayo, Jobet convocó a un comité asesor para elaborar la hoja de ruta del hidrógeno verde en Chile, la cual será dada a conocer el próximo martes 3 de noviembre. La mesa de trabajo destaca por su variedad técnica, generacional y política. Está conformada por el ex Presidente  Ricardo Lagos ; la ex secretaria ejecutiva de la Comisión Nacional de Energía,  Vivianne Blanlot ; el ex ministro de Medio Ambiente del Gobierno de Michelle Bachelet,  Marcelo Mena ; el Champion de la COP25 y cofundador de Sistema B,  Gonzalo Muñoz ; la economista y directora de Observatorio Fiscal,  Jeannette von Wolfersdorff ; y el economista y consultor internacional,  Klaus Schmidt-Hebbel . Entre todos, incluido el ministro, tuvieron extensas reuniones de manera presencial y telemática para elaborar la estrategia, la cual cuenta con plazos definidos, montos estimados de inversión, cifras de cuántos empleos podrían crearse, medidas concretas y áreas específicas donde los proyectos podrían realizarse.  \"Según las estimaciones que tenemos, el 2050 podríamos estar exportando hidrógeno verde por un monto equivalente a lo que hoy día exportamos en cobre. Así de grande puede ser esto\" Juan Carlos Jobet \"Desde el comienzo dijimos que este plan tenía que tener metas hiperconcretas, ambiciosas, pero concretas, con tiempos definidos\", expresa Jobet. Así, y considerando que distintos países desarrollados como Alemania, Bélgica, Francia y Dinamarca ya han lanzado sus propias hojas de ruta respecto al tema, el ministro no duda al decir que con esta estrategia \" Chile quedará como el país líder de América Latina en hidrógeno verde, de hecho somos el país que más potencial tiene en el mundo \". Para dimensionar el caso, el titular de Energía revela que \"según las estimaciones que tenemos, el 2050 podríamos estar exportando hidrógeno verde por un monto equivalente a lo que hoy día exportamos en cobre. Así de grande puede ser esto. La gracia es que esto no es \\'en vez\\' del cobre, sino que \\'además\\' de él\". En 2019 Chile exportó US$33.564 millones en cobre, según el Banco Central. Actualmente existen cerca de 20 proyectos piloto en torno al hidrógeno verde en Chile , los cuales están siendo seguidos de cerca por Energía y que están en distintas etapas de desarrollo. \"Estamos ayudando a esos pilotos a avanzar\", dice Jobet y cuenta que algunos están enfocados en combustible para exportar, otros que son para transporte en la minería, otros para producción de amoniaco, algunos tienen que ver con grúas en la construcción, entre otros. RelacionadasDetalle(972653,1000834); De todas formas, explica que la estrategia cuenta con una primera fase en la que se va a fomentar el uso del hidrógeno verde a nivel local, donde uno de los usos es la minería y otro es el sector residencial. Con todo, Jobet revela que en la ruta hacia la carbono neutralidad que el país se propuso para 2050,  está calculado que el hidrógeno verde contribuya cerca de un 25% en la reducción de emisiones de gases de efecto invernadero del país. La visión del transversal comité asesor Todos los miembros del comité que fue convocado para cranear la estrategia nacional del hidrógeno verde, celebran el haber sido llamados y el que Chile tenga este combustible como meta en el horizonte. \" Acá Chile puede ser la solución a una parte relevante de las emisiones globales. Puede ser la Arabia Saudita de los combustibles cero emisión  que requiere el mundo para frenar el cambio climático. Pasa de ser un actor pequeño, a un player de peso en la economía del siglo XXI\", comenta el ex ministro de Energía,  Marcelo Mena .  \"Acá Chile puede ser la solución a una parte relevante de las emisiones globales. Puede ser la Arabia Saudita de los combustibles cero emisión que requiere el mundo para frenar el cambio climático. Pasa de ser un actor pequeño, a un player de peso en la economía del siglo XXI\" Marcelo Mena En esa línea, el ingeniero dice que ve la oportunidad de transitar desde una economía de recursos que se van a agotar (la minería) a una economía de recursos infinitos (el sol, y los combustibles renovables que podemos generar). \"V eo que si aprovecháramos el recurso solar que tenemos podríamos vender hasta US$320 mil millones al año  y suministrar energía equivalente a lo que consumen 350 millones de autos al año, reduciendo hasta 14% de las emisiones globales. Veo que el límite de lo que aprovechemos de esta oportunidad está en nuestras mentes\". Vivianne Blanlot , ex ministra de Defensa y economista de dos gobiernos de la Concertación, sostiene que \"sin duda el hidrógeno verde tiene el potencial de convertirse en una ventaja competitiva para Chile, en un mundo que necesariamente deberá acelerar el tránsito hacia una economía limpia\". Para Jobet, la participación de la actual vicepresidenta de Icare fue clave dado su rol actual como directora de Antofagasta Minerals, y su cercanía con el sector energético y empresarial. El Champion de la COP25,  Gonzalo Muñoz , es para el ministro \" el canciller del hidrógeno verde en Chile \", dada su amplia red de contactos internacionales con actores no gubernamentales que están detrás de la acción climática y la meta de la carbono neutralidad. Para él, la oportunidad del país está vinculada a que la industria marítima utilice \" amoniaco verde \" para los buques que llevan los productos de Chile a destino, generando cero emisiones. RelacionadasDetalle(1000331,974328); \"Para que eso ocurra debe instalarse una industria que produzca Amoniaco Verde a partir de Hidrógeno Verde, utilizando energías renovables. Eso implica que, para eliminar o reducir al máximo las emisiones del traslado de nuestros productos a los mercados de destino y por ende lograr la competitividad climática,  Chile tiene que aumentar considerablemente su capacidad de producir electricidad renovable \", sostiene Muñoz. La ex directora de la Bolsa de Santiago,  Jeanette von Wolfersdorff  expresa que \"en medio de nuestra situación actual en el país, considero es una señal especialmente importante -el impulso del hidrógeno verde-, porque muestra que  con voluntad, y una actitud de cooperación y colaboración, se pueden ir armando coaliciones público-privadas importantes , para impulsar inversiones e innovación que nuestro país tanto necesita\".  La participación de la economista fue clave también debido a sus vínculos con el gobierno alemán y el sector privado de dicho país, de hecho, durante el trabajo se realizó un estudio apoyado por la administración de dicho país y la sociedad de cooperación internacional, donde se recabó que  en Chile la inversión en hidrógeno verde podría implicar unos US$30 mil millones al 2050 y la creación de al menos 94 mil puestos de trabajo a ese año .  \"Imaginar una industria marítima con cero emisiones es necesario para Chile y a su vez se vincula a la descarbonización de muchas otras industrias de nuestro país\" Gonzalo Muñoz El destacado economista  Klaus Schmidt-Hebbel , quien se ha especializado en el último tiempo en materias relacionadas a la energía y el medio ambiente, también enfatiza que \"Chile tiene una enorme oportunidad por dos razones favorables. Primero, nuestro país cuenta con grandes ventajas comparativas y absolutas para producir H2 a precios de energías no convencionales y sustentables cada vez más baratas. Segundo, porque en temas estratégicos como estos, nuestro país (aún) tiene la capacidad de generar acuerdos políticos importantes, que trascienden a gobiernos puntuales.  Y, por eso, Chile puede ser líder mundial en la producción y exportación de hidrógeno verde \".']\u001b[0m\n",
      "Thought:\u001b[32;1m\u001b[1;3mDe la información obtenida, se puede ver que Juan Carlos Jobet ha trabajado activamente en la promoción del hidrógeno verde en Chile. Ha liderado la estructuración de un Plan de Acción de Hidrógeno Verde y ha resaltado el potencial del hidrógeno verde para mejorar las condiciones de vida y luchar contra el cambio climático. Jobet también ha destacado las oportunidades económicas que esta industria puede ofrecer, como la posibilidad de exportar hidrógeno verde por un monto equivalente a lo que Chile exporta en cobre. Además, ha señalado que el hidrógeno verde puede contribuir en un 25% en la reducción de emisiones de gases de efecto invernadero del país.\n",
      "Final Answer: Juan Carlos Jobet ha declarado que el hidrógeno verde es una oportunidad para mejorar las condiciones de vida y luchar contra el cambio climático. Ha liderado la creación de un Plan de Acción de Hidrógeno Verde en Chile y ha resaltado el potencial económico de esta industria, incluso comparando su potencial de exportación con las actuales exportaciones de cobre del país. Además, ha mencionado que el hidrógeno verde podría contribuir en un 25% en la reducción de emisiones de gases de efecto invernadero del país.\u001b[0m\n",
      "\n",
      "\u001b[1m> Finished chain.\u001b[0m\n",
      "{'input': '¿Qué déclaraciones ha realizado Juan Carlos Jobet en el contexto del hidrógeno verde?', 'output': 'Juan Carlos Jobet ha declarado que el hidrógeno verde es una oportunidad para mejorar las condiciones de vida y luchar contra el cambio climático. Ha liderado la creación de un Plan de Acción de Hidrógeno Verde en Chile y ha resaltado el potencial económico de esta industria, incluso comparando su potencial de exportación con las actuales exportaciones de cobre del país. Además, ha mencionado que el hidrógeno verde podría contribuir en un 25% en la reducción de emisiones de gases de efecto invernadero del país.'}\n"
     ]
    }
   ],
   "source": [
    "# Ejecutar el agente con una consulta usando `invoke`\n",
    "query = \"¿Qué déclaraciones ha realizado Juan Carlos Jobet en el contexto del hidrógeno verde?\"\n",
    "response = agent.invoke(query)\n",
    "\n",
    "# Mostrar la respuesta\n",
    "print(response)\n"
   ]
  }
 ],
 "metadata": {
  "kernelspec": {
   "display_name": "Python 3",
   "language": "python",
   "name": "python3"
  },
  "language_info": {
   "codemirror_mode": {
    "name": "ipython",
    "version": 3
   },
   "file_extension": ".py",
   "mimetype": "text/x-python",
   "name": "python",
   "nbconvert_exporter": "python",
   "pygments_lexer": "ipython3",
   "version": "3.11.9"
  }
 },
 "nbformat": 4,
 "nbformat_minor": 2
}
