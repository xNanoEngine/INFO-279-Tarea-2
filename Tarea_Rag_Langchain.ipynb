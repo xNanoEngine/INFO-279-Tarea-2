{
 "cells": [
  {
   "cell_type": "code",
   "execution_count": null,
   "metadata": {},
   "outputs": [
    {
     "name": "stdout",
     "output_type": "stream",
     "text": [
      "Collecting langchain-community\n",
      "  Downloading langchain_community-0.3.10-py3-none-any.whl.metadata (2.9 kB)\n",
      "Requirement already satisfied: PyYAML>=5.3 in c:\\users\\mati1\\appdata\\local\\programs\\python\\python313\\lib\\site-packages (from langchain-community) (6.0.2)\n",
      "Requirement already satisfied: SQLAlchemy<3,>=1.4 in c:\\users\\mati1\\appdata\\local\\programs\\python\\python313\\lib\\site-packages (from langchain-community) (2.0.36)\n",
      "Requirement already satisfied: aiohttp<4.0.0,>=3.8.3 in c:\\users\\mati1\\appdata\\local\\programs\\python\\python313\\lib\\site-packages (from langchain-community) (3.11.10)\n",
      "Collecting dataclasses-json<0.7,>=0.5.7 (from langchain-community)\n",
      "  Downloading dataclasses_json-0.6.7-py3-none-any.whl.metadata (25 kB)\n",
      "Collecting httpx-sse<0.5.0,>=0.4.0 (from langchain-community)\n",
      "  Downloading httpx_sse-0.4.0-py3-none-any.whl.metadata (9.0 kB)\n",
      "Requirement already satisfied: langchain<0.4.0,>=0.3.10 in c:\\users\\mati1\\appdata\\local\\programs\\python\\python313\\lib\\site-packages (from langchain-community) (0.3.10)\n",
      "Requirement already satisfied: langchain-core<0.4.0,>=0.3.22 in c:\\users\\mati1\\appdata\\local\\programs\\python\\python313\\lib\\site-packages (from langchain-community) (0.3.23)\n",
      "Requirement already satisfied: langsmith<0.2.0,>=0.1.125 in c:\\users\\mati1\\appdata\\local\\programs\\python\\python313\\lib\\site-packages (from langchain-community) (0.1.147)\n",
      "Requirement already satisfied: numpy<3,>=1.26.2 in c:\\users\\mati1\\appdata\\local\\programs\\python\\python313\\lib\\site-packages (from langchain-community) (2.2.0)\n",
      "Collecting pydantic-settings<3.0.0,>=2.4.0 (from langchain-community)\n",
      "  Downloading pydantic_settings-2.6.1-py3-none-any.whl.metadata (3.5 kB)\n",
      "Requirement already satisfied: requests<3,>=2 in c:\\users\\mati1\\appdata\\local\\programs\\python\\python313\\lib\\site-packages (from langchain-community) (2.32.3)\n",
      "Requirement already satisfied: tenacity!=8.4.0,<10,>=8.1.0 in c:\\users\\mati1\\appdata\\local\\programs\\python\\python313\\lib\\site-packages (from langchain-community) (9.0.0)\n",
      "Requirement already satisfied: aiohappyeyeballs>=2.3.0 in c:\\users\\mati1\\appdata\\local\\programs\\python\\python313\\lib\\site-packages (from aiohttp<4.0.0,>=3.8.3->langchain-community) (2.4.4)\n",
      "Requirement already satisfied: aiosignal>=1.1.2 in c:\\users\\mati1\\appdata\\local\\programs\\python\\python313\\lib\\site-packages (from aiohttp<4.0.0,>=3.8.3->langchain-community) (1.3.1)\n",
      "Requirement already satisfied: attrs>=17.3.0 in c:\\users\\mati1\\appdata\\local\\programs\\python\\python313\\lib\\site-packages (from aiohttp<4.0.0,>=3.8.3->langchain-community) (24.2.0)\n",
      "Requirement already satisfied: frozenlist>=1.1.1 in c:\\users\\mati1\\appdata\\local\\programs\\python\\python313\\lib\\site-packages (from aiohttp<4.0.0,>=3.8.3->langchain-community) (1.5.0)\n",
      "Requirement already satisfied: multidict<7.0,>=4.5 in c:\\users\\mati1\\appdata\\local\\programs\\python\\python313\\lib\\site-packages (from aiohttp<4.0.0,>=3.8.3->langchain-community) (6.1.0)\n",
      "Requirement already satisfied: propcache>=0.2.0 in c:\\users\\mati1\\appdata\\local\\programs\\python\\python313\\lib\\site-packages (from aiohttp<4.0.0,>=3.8.3->langchain-community) (0.2.1)\n",
      "Requirement already satisfied: yarl<2.0,>=1.17.0 in c:\\users\\mati1\\appdata\\local\\programs\\python\\python313\\lib\\site-packages (from aiohttp<4.0.0,>=3.8.3->langchain-community) (1.18.3)\n",
      "Collecting marshmallow<4.0.0,>=3.18.0 (from dataclasses-json<0.7,>=0.5.7->langchain-community)\n",
      "  Downloading marshmallow-3.23.1-py3-none-any.whl.metadata (7.5 kB)\n",
      "Collecting typing-inspect<1,>=0.4.0 (from dataclasses-json<0.7,>=0.5.7->langchain-community)\n",
      "  Downloading typing_inspect-0.9.0-py3-none-any.whl.metadata (1.5 kB)\n",
      "Requirement already satisfied: langchain-text-splitters<0.4.0,>=0.3.0 in c:\\users\\mati1\\appdata\\local\\programs\\python\\python313\\lib\\site-packages (from langchain<0.4.0,>=0.3.10->langchain-community) (0.3.2)\n",
      "Requirement already satisfied: pydantic<3.0.0,>=2.7.4 in c:\\users\\mati1\\appdata\\local\\programs\\python\\python313\\lib\\site-packages (from langchain<0.4.0,>=0.3.10->langchain-community) (2.10.3)\n",
      "Requirement already satisfied: jsonpatch<2.0,>=1.33 in c:\\users\\mati1\\appdata\\local\\programs\\python\\python313\\lib\\site-packages (from langchain-core<0.4.0,>=0.3.22->langchain-community) (1.33)\n",
      "Requirement already satisfied: packaging<25,>=23.2 in c:\\users\\mati1\\appdata\\roaming\\python\\python313\\site-packages (from langchain-core<0.4.0,>=0.3.22->langchain-community) (24.2)\n",
      "Requirement already satisfied: typing-extensions>=4.7 in c:\\users\\mati1\\appdata\\local\\programs\\python\\python313\\lib\\site-packages (from langchain-core<0.4.0,>=0.3.22->langchain-community) (4.12.2)\n",
      "Requirement already satisfied: httpx<1,>=0.23.0 in c:\\users\\mati1\\appdata\\local\\programs\\python\\python313\\lib\\site-packages (from langsmith<0.2.0,>=0.1.125->langchain-community) (0.28.1)\n",
      "Requirement already satisfied: orjson<4.0.0,>=3.9.14 in c:\\users\\mati1\\appdata\\local\\programs\\python\\python313\\lib\\site-packages (from langsmith<0.2.0,>=0.1.125->langchain-community) (3.10.12)\n",
      "Requirement already satisfied: requests-toolbelt<2.0.0,>=1.0.0 in c:\\users\\mati1\\appdata\\local\\programs\\python\\python313\\lib\\site-packages (from langsmith<0.2.0,>=0.1.125->langchain-community) (1.0.0)\n",
      "Requirement already satisfied: python-dotenv>=0.21.0 in c:\\users\\mati1\\appdata\\local\\programs\\python\\python313\\lib\\site-packages (from pydantic-settings<3.0.0,>=2.4.0->langchain-community) (1.0.1)\n",
      "Requirement already satisfied: charset-normalizer<4,>=2 in c:\\users\\mati1\\appdata\\local\\programs\\python\\python313\\lib\\site-packages (from requests<3,>=2->langchain-community) (3.4.0)\n",
      "Requirement already satisfied: idna<4,>=2.5 in c:\\users\\mati1\\appdata\\local\\programs\\python\\python313\\lib\\site-packages (from requests<3,>=2->langchain-community) (3.10)\n",
      "Requirement already satisfied: urllib3<3,>=1.21.1 in c:\\users\\mati1\\appdata\\local\\programs\\python\\python313\\lib\\site-packages (from requests<3,>=2->langchain-community) (2.2.3)\n",
      "Requirement already satisfied: certifi>=2017.4.17 in c:\\users\\mati1\\appdata\\local\\programs\\python\\python313\\lib\\site-packages (from requests<3,>=2->langchain-community) (2024.8.30)\n",
      "Requirement already satisfied: anyio in c:\\users\\mati1\\appdata\\local\\programs\\python\\python313\\lib\\site-packages (from httpx<1,>=0.23.0->langsmith<0.2.0,>=0.1.125->langchain-community) (4.7.0)\n",
      "Requirement already satisfied: httpcore==1.* in c:\\users\\mati1\\appdata\\local\\programs\\python\\python313\\lib\\site-packages (from httpx<1,>=0.23.0->langsmith<0.2.0,>=0.1.125->langchain-community) (1.0.7)\n",
      "Requirement already satisfied: h11<0.15,>=0.13 in c:\\users\\mati1\\appdata\\local\\programs\\python\\python313\\lib\\site-packages (from httpcore==1.*->httpx<1,>=0.23.0->langsmith<0.2.0,>=0.1.125->langchain-community) (0.14.0)\n",
      "Requirement already satisfied: jsonpointer>=1.9 in c:\\users\\mati1\\appdata\\local\\programs\\python\\python313\\lib\\site-packages (from jsonpatch<2.0,>=1.33->langchain-core<0.4.0,>=0.3.22->langchain-community) (3.0.0)\n",
      "Requirement already satisfied: annotated-types>=0.6.0 in c:\\users\\mati1\\appdata\\local\\programs\\python\\python313\\lib\\site-packages (from pydantic<3.0.0,>=2.7.4->langchain<0.4.0,>=0.3.10->langchain-community) (0.7.0)\n",
      "Requirement already satisfied: pydantic-core==2.27.1 in c:\\users\\mati1\\appdata\\local\\programs\\python\\python313\\lib\\site-packages (from pydantic<3.0.0,>=2.7.4->langchain<0.4.0,>=0.3.10->langchain-community) (2.27.1)\n",
      "Collecting mypy-extensions>=0.3.0 (from typing-inspect<1,>=0.4.0->dataclasses-json<0.7,>=0.5.7->langchain-community)\n",
      "  Downloading mypy_extensions-1.0.0-py3-none-any.whl.metadata (1.1 kB)\n",
      "Requirement already satisfied: sniffio>=1.1 in c:\\users\\mati1\\appdata\\local\\programs\\python\\python313\\lib\\site-packages (from anyio->httpx<1,>=0.23.0->langsmith<0.2.0,>=0.1.125->langchain-community) (1.3.1)\n",
      "Downloading langchain_community-0.3.10-py3-none-any.whl (2.4 MB)\n",
      "   ---------------------------------------- 0.0/2.4 MB ? eta -:--:--\n",
      "   ---------------------------------------- 2.4/2.4 MB 29.9 MB/s eta 0:00:00\n",
      "Downloading dataclasses_json-0.6.7-py3-none-any.whl (28 kB)\n",
      "Downloading httpx_sse-0.4.0-py3-none-any.whl (7.8 kB)\n",
      "Downloading pydantic_settings-2.6.1-py3-none-any.whl (28 kB)\n",
      "Downloading marshmallow-3.23.1-py3-none-any.whl (49 kB)\n",
      "Downloading typing_inspect-0.9.0-py3-none-any.whl (8.8 kB)\n",
      "Downloading mypy_extensions-1.0.0-py3-none-any.whl (4.7 kB)\n",
      "Installing collected packages: mypy-extensions, marshmallow, httpx-sse, typing-inspect, pydantic-settings, dataclasses-json, langchain-community\n",
      "Successfully installed dataclasses-json-0.6.7 httpx-sse-0.4.0 langchain-community-0.3.10 marshmallow-3.23.1 mypy-extensions-1.0.0 pydantic-settings-2.6.1 typing-inspect-0.9.0\n",
      "Note: you may need to restart the kernel to use updated packages.\n"
     ]
    }
   ],
   "source": [
    "# %pip install langchain\n",
    "# %pip install chromadb\n",
    "# %pip install pandas\n",
    "# %pip install requests\n",
    "# %pip install langchain-openai\n",
    "# %pip install --upgrade chromadb\n",
    "# %pip install langchain-community\n"
   ]
  },
  {
   "cell_type": "code",
   "execution_count": 106,
   "metadata": {},
   "outputs": [],
   "source": [
    "from langchain_openai import ChatOpenAI\n",
    "from langchain.prompts import PromptTemplate\n",
    "from langchain.agents import AgentType\n",
    "from langchain.agents import Tool, initialize_agent\n",
    "import chromadb\n",
    "from langchain.embeddings import OpenAIEmbeddings\n",
    "import pandas as pd\n",
    "import requests\n",
    "import re\n",
    "from collections import Counter\n",
    "from datetime import datetime, timedelta\n",
    "from chromadb import Client\n"
   ]
  },
  {
   "cell_type": "code",
   "execution_count": 109,
   "metadata": {},
   "outputs": [],
   "source": [
    "api_key = \"\"\n",
    "llm = ChatOpenAI(temperature=0.7, openai_api_key=api_key, model='gpt-4')\n",
    "embeddings = OpenAIEmbeddings(openai_api_key=api_key)\n",
    "chain =  llm"
   ]
  },
  {
   "cell_type": "code",
   "execution_count": 110,
   "metadata": {},
   "outputs": [],
   "source": [
    "client = chromadb.PersistentClient(path=\".\")\n",
    "doc_collection = client.get_or_create_collection(name=\"hidrogeno_verde\")"
   ]
  },
  {
   "cell_type": "code",
   "execution_count": 111,
   "metadata": {},
   "outputs": [],
   "source": [
    "def store_in_chromadb(documents, metadata_list):\n",
    "    for idx, (doc, metadata) in enumerate(zip(documents, metadata_list)):\n",
    "        embedding = embeddings.embed_query(doc)  # Genera el embedding\n",
    "        doc_collection.add(\n",
    "            ids=[str(idx)],  # ID único para cada documento\n",
    "            documents=[doc],  # Documento en formato texto\n",
    "            embeddings=[embedding],  # Embedding generado\n",
    "            metadatas=[metadata]  # Información adicional (opcional)\n",
    "        )\n"
   ]
  },
  {
   "cell_type": "code",
   "execution_count": 112,
   "metadata": {},
   "outputs": [
    {
     "name": "stdout",
     "output_type": "stream",
     "text": [
      "[{'date': '2024-10-19', 'id_news': '54.272.642', 'title': 'Ausenco impulsa la transición energética a través de servicios de consultoría especializados en hidrógeno verde', 'url': 'https://tierramarillano.cl/2024/10/20/ausenco-impulsa-la-transicion-energetica-a-traves-de-servicios-de-consultoria-especializados-en-hidrogeno-verde/', 'polarity_score': '-', 'polarity_label': '-', 'media_outlet': 'tierraamarillano', 'country': 'chile', 'combined': 'Ausenco impulsa la transición energética a través de servicios de consultoría especializados en hidrógeno verde Santiago, octubre de 2024 – Como parte de la celebración del Día del Hidrógeno Verde, organizada por H2 Chile, Ausenco refuerza su compromiso con un futuro energético más limpio y sostenible. Este evento, realizado en conmemoración del Día Internacional del Hidrógeno, reunió a líderes de la industria para discutir los avances, desafíos y oportunidades que presenta el hidrógeno verde en la descarbonización y el desarrollo sostenible. El hidrógeno verde ha surgido como una de las soluciones más prometedoras para reducir las emisiones globales de carbono, contribuyendo a los esfuerzos contra el cambio climático. Ausenco trabaja activamente con clientes de diversas industrias para impulsar estrategias de descarbonización y adoptar tecnologías de energía renovable. «En Ausenco, estamos comprometidos en apoyar a nuestros clientes en el desarrollo y adopción de fuentes de energía limpia que promuevan la sostenibilidad y ayuden a reducir la huella de carbono. La transición energética es un desafío global que requiere la implementación de soluciones innovadoras, colaborativas y duraderas. El desarrollo de hidrógeno verde es clave en este sentido, y la colaboración entre los desarrolladores de proyectos, futuros compradores, entidades gubernamentales y financiadores es esencial para activar el mercado», señaló Carolina Martínez, Líder de Hidrógeno Renovable y Derivados en Ausenco. Agregó: «Colaboramos con nuestros clientes en la construcción de estos vínculos estratégicos, adoptando una visión integral de la cadena de valor del hidrógeno verde y sus derivados, tanto desde la perspectiva de la oferta como de la demanda». Ausenco ofrece una gama de soluciones integrales para la transición energética, que incluyen la implementación de tecnologías de almacenamiento de energía y electrificación, una gestión precisa de las emisiones de gases de efecto invernadero (GEI), y servicios de consultoría e ingeniería a lo largo de toda la cadena de valor del hidrógeno verde. Su estrategia de reducción de emisiones cubre toda la cadena de valor de los proyectos, con un enfoque en los alcances de GEI 1-3, ayudando a las empresas a cumplir con sus metas de sostenibilidad. Un ejemplo reciente de cómo Ausenco ha estado implementando esta consultoría especializada en la región es el apoyo que ha brindado al Gobierno de Uruguay, a través del Programa de las Naciones Unidas para el Desarrollo. En este proyecto, la empresa está proporcionando contribuciones técnicas y recomendaciones para apoyar la estrategia del país en la producción y exportación de derivados del hidrógeno verde. El Día del Hidrógeno Verde reunió a destacados representantes del gobierno y del sector energético, incluidos el Ministro de Economía, Desarrollo y Turismo, Nicolás Grau; el Subsecretario de Energía, Luis Felipe Ramos; el Vicepresidente Ejecutivo de Corfo, José Miguel Benavente; la Presidenta de H2 Chile, Rebeca Poleo; y el Director Ejecutivo de H2 Chile, Marcos Kulka. Todos destacaron la importancia del hidrógeno verde como un elemento clave en la transformación hacia un futuro energético más sostenible. Para saber más sobre cómo Ausenco está ayudando a las empresas en la transición energética, y para conocer más sobre nuestros servicios de consultoría en hidrógeno verde, visita: Transición energética: Apoyando tu viaje hacia las emisiones netas cero (Cero Neto) – Ausenco Spanish Las opiniones vertidas en este medio electrónico son de exclusiva responsabilidad de quienes las emiten y no representan necesariamente el pensamiento del diario electrónico Tierramarillano.'}, {'date': '2024-10-17', 'id_news': '54.270.980', 'title': 'Claudio Seebach aterriza la \"realidad\" del hidrógeno verde: \"No ha logrado mostrar la ventaja de ser más barato\"', 'url': 'https://www.emol.com/noticias/Economia/2024/10/18/1145965/hidrogeno-verde-claudio-seebach.html', 'polarity_score': '-', 'polarity_label': '-', 'media_outlet': 'emol', 'country': 'chile', 'combined': 'Claudio Seebach aterriza la \"realidad\" del hidrógeno verde: \"No ha logrado mostrar la ventaja de ser más barato\" Claudio Seebach,  una voz respetada en el sector energético nacional, abordó las dudas que se han despertado en distintos rincones del mundo respecto a la viabilidad del hidrógeno verde, un combustible que carga con la promesa de ser clave en la transición global hacia energías más limpias y por el cual Chile ha apostado con fuerza, decidido a levantar una industria que sea estratégica para el país y el mundo.  El camino para consolidar al hidrógeno verde como una alternativa energética competitiva para sacar del juego a los combustibles fósiles ha sido más rugoso del que se pensaba. Sus altos costos e incertidumbre respecto a la demanda mundial han espantado a algunos inversionistas, reflejándose en la paralización o el retraso de varias iniciativas alrededor del globo.  RelacionadasDetalle(\\'1145749\\',\\'1145696\\');  Seebach actualmente decano de la Facultad de Ingeniería y Ciencias de la U. Adolfo Ibáñez (UAI) y durante  años ejerció como presidente ejecutivo de Generadoras de Chile, gremio que representa a las principales empresas de generación eléctrica del país y lideran la inversión en energías renovables en materia solar, eólica, almacenamiento y, por supuesto, hidrógeno verde. Para él, las complejas señales en torno a este último \"más que preocupantes, s inceran una realidad\".  Lo anterior, no quita que -a su juicio- el hidrógeno verde sea una esencial para avanzar hacia una economía con bajas emisiones de carbono.  Según explicó a Emol, este combustible producido mediante electricidad de fuentes renovables, tiene el potencial de descarbonizar usos finales de energía en sectores donde la electrificación directa es menos viable.  No obstante, fue enfático en señalar que el hidrógeno tiene un gran competidor:  la propia electrificación de diversos sectores.   Remarcó que Chile, con su abundancia de recursos renovables, especialmente en energía solar y eólica, está bien posicionado para liderar en la producción de hidrógeno verde, pero la duda -dice- radica en si esta tecnología será más económica que la electrificación en áreas como la movilidad y la calefacción, donde ya se están imponiendo alternativas como la electromovilidad y las bombas de calor.   \"Entonces yo diría más que preocupante, sincera la realidad, lo que no quita que nosotros seguimos teniendo una oportunidad gigantesca en producir energía renovable a costos muy competitivos Claudio Seebach, decano de la Facultad de Ingeniería y Ciencias de la UAI  \"La pregunta es:  ¿El hidrógeno verde va a ser más barato que electrificar? Es ahí donde al hidrógeno verde le ha costado despegar,  porque le ha ido ganando la electrificación de los motores, llámese electromovilidad o incluso la producción de calor\", comentó Seebach, agregando que por ahora el hidrógeno verde gana terreno en sectores difíciles de electrificar, como el transporte marítimo y la aviación.  Para Seebach, el denominado como \"combustible del futuro\" aún enfrenta desafíos significativos en términos de competitividad de costos y demanda. \"Nosotros en Chile tenemos la oportunidad de oferta pero los costos todavía no son suficientemente competitivos\", señaló, añadiendo que cada etapa del proceso de producción del hidrógeno verde es intensiva en energía y provoca pérdidas. De todas formas,  el experto subraya que Chile no debe frenar sus planes en torno al hidrógeno verde. \"Pausa no es la palabra (...). No podemos permitirnos ninguna pausa\",  dijo, dada la necesidad de reemplazar en no mucho tiempo a los combustibles fósiles en todo el mundo. Sí, manifestó, una propuesta adecuada sería una mayor dosis de pragmatismo, señalando que si bien el hidrógeno verde tiene un papel relevante que cumplir, es la electrificación la que liderará la transición energética al menos en el mediano plazo.   \"El hidrógeno verde no ha logrado todavía mostrar esa ventaja. De ser más barato que la alternativa\" Claudio Seebach, decano de la Facultad de Ingeniería y Ciencias de la UAI  Es que insistió en que los costos del hidrógeno verde actualmente no pueden competir con las alternativas electrificadas. En ese sentido, ejemplificó con que \"la gran ventaja de la energía solar es que produce electricidad y le está ganando al carbón, y si le está ganando es porque es más barata\".  \"El hidrógeno verde no ha logrado todavía mostrar esa ventaja de ser más barato que la alternativa\",  afirmó. \"Si sigue la innovación y desarrollo y ahí crece la demanda, podríamos ir a un círculo virtuoso. Pero por ahora no lo está logrando\", añadió.  \"El hidrógeno verde va a tener un rol que cumplir, pero mucho más realista que las expectativas que hemos visto\" Claudio Seebach, decano de la Facultad de Ingeniería y Ciencias de la UAI  Por lo mismo, llama a darle un enfoque \"realista\" al hidrógeno verde \"¿Chile va a ser una gran potencia renovable? Sí, pero en lo que vamos a liderar es en la electrificación (...). El hidrógeno verde va a tener un rol que cumplir,  pero mucho más realista que las expectativas que hemos visto\" , cerró. '}, {'date': '2024-10-16', 'id_news': '54.274.158', 'title': 'Hidrógeno verde: La industria estratégica para el futuro de Chile enfrenta dudas globales sobre su viabilidad', 'url': 'https://www.emol.com/noticias/Economia/2024/10/17/1145749/hidrogeno-verde-chile.html', 'polarity_score': '-', 'polarity_label': '-', 'media_outlet': 'emol', 'country': 'chile', 'combined': 'Hidrógeno verde: La industria estratégica para el futuro de Chile enfrenta dudas globales sobre su viabilidad En septiembre, el Presidente  Gabriel Boric  inauguró la segunda edición de Hyvolution Chile, uno de los principales eventos que reúne a actores de la industria del hidrógeno verde a nivel mundial.  En su discurso, el Mandatario destacó el compromiso de su Gobierno con el desarrollo del \"combustible del futuro\", señalando que \"el avance del hidrógeno verde es una política de Estado. Nosotros estamos continuando algo que comenzó en el segundo gobierno de la presidenta Bachelet, que institucionalizó el gobierno del Presidente Piñera y que hoy en nuestro Gobierno lo estamos consolidando\". RelacionadasDetalle(\\'1145696\\',\\'1144416\\');  Consolidación que aún no se concreta, pero de todas formas para los ojos del mundo Chile ha logrado posicionarse como uno de los países con mayor potencial para el desarrollo del hidrógeno verde,  un combustible que carga con la promesa de ser clave en la transición global hacia energías más limpias.  No obstante, el camino hacia su consolidación está plagado de desafíos en torno a los costos de producción y dificultades tecnológicas que  han sido más complejas de los que se pronosticaba en un inicio y  han despertado dudas sobre su viabilidad en mediano plazo.  Según un estudio publicado en la revista  Joule, por cada tonelada métrica de dióxido de carbono que se reduce, la producción de hidrógeno verde tiene un costo que oscila entre los US$500 y US$1.250.   \"Si analizamos la propuesta de valor en su conjunto, no hay forma de que sea rentable\", aseguró  Roxana Shafiee,  investigadora del estudio. Esta afirmación resalta la distancia que aún existe entre las proyecciones optimistas y la realidad económica. Asimismo,  The Wall Street Journal  aseguró que la expectativa sobre el hidrógeno verde ha ido bajando este año. ¿La razón?  El aumento de costos y la falta de interés por parte de productores  de energía han llevado a la paralización o retraso de varias iniciativas. Bloomberg también dedicó recientemente una nota respecto al tema, asegurando que \"el entusiasmo por el hidrógeno verde se desvanece ante altos costos\". El mismo medio destaca que en los últimos meses, algunos de los mayores potenciales desarrolladores de este combustible han cancelado proyectos, eliminado pedidos y reducido sus planes de inversión. \"El combustible con bajas emisiones de carbono es simplemente demasiado caro para estimular la demanda en muchos sectores de la economía\", acotó.  En Australia,  Origin Energy  canceló un importante proyecto debido a que el mercado del hidrógeno \"se está desarrollando más lentamente de lo previsto\", como explicó su director ejecutivo, Frank Calabria.  Este es solo uno de los varios proyectos de hidrógeno verde que han sido detenidos o reconsiderados en el último tiempo.  En  Estados Unidos , la noruega Nel ASA también enfrentó la cancelación de un pedido significativo por parte de Hy Stor Energy, lo que subraya la falta de viabilidad financiera en algunos sectores. Asimismo, los datos de la Agencia Internacional de la Energía (AIE), advierte que, si bien se espera que la producción de hidrógeno limpio aumente un 40% para 2024, eso solo representará el 1% de la demanda mundial de hidrógeno.  Además, los incentivos y el financiamiento aún no son suficientes para acelerar el crecimiento del sector al ritmo necesario para cumplir con las expectativas.  Robert Bryce , escritor y experto en energía, fue más contundente en su evaluación, calificando al hidrógeno verde como \"una ilusión, una tontería\".  Bryce participó esta semana en un seminario en Chile y, en entrevista con El Mercurio, hizo alusión a que los altos costos y la falta de demanda real están llevando a la cancelación de numerosos proyectos a nivel mundial.   \"Siempre se trata de dinero, y es por eso que muchos de estos proyectos están diciendo que hay una retirada de última hora del \\'off-taker\\' (comprador), porque es demasiado caro y la demanda insuficiente\". Robert Bryce   \"Siempre se trata de dinero, y es por eso que muchos de estos proyectos están diciendo que hay una retirada de última hora del \\'off-taker\\' (comprador), porque  es demasiado caro y la demanda insuficiente \", sentenció Bryce. En Chile, la preocupación también se hace sentir a nivel local. El  Sindicato de Trabajadores de Enap , en la región de Magallanes, expresó su inquietud respecto a las altas expectativas generadas en torno a los proyectos de hidrógeno verde en la zona.  Según el gremio, \"cuesta entender que todos los días se generen expectativas en base a anuncios de desarrollo de nuevas energías y de empleabilidad en la región\", subrayando que aún existen múltiples incertidumbres que deben resolverse antes de que estos proyectos puedan avanzar. Agenda \"pragmática y realista\" Frente a todo este escenario, los expertos advierten que es necesario ajustar la estrategia con una visión más pragmática y realista frente a los desafíos actuales.  Por eso, plantean que es fundamental avanzar con cautela, establecer metas realistas y asegurarse de que la infraestructura, la demanda y los incentivos financieros estén alineados antes de continuar con grandes inversiones. Por ejemplo,  Álex Godoy,  director del Centro de Investigación en Sustentabilidad (CiSGER) de la Universidad del Desarrollo, plantea que no se debe frenar la estrategia de hidrógeno verde en Chile, pero sí avanzar con cautela.  \"La hoja de ruta debe plantear objetivos a corto plazo que permitan hacer rentables los proyectos de inversión, pero también que sean amigables con el medio ambiente\", indicó Godoy.   Además, destacó que la clave está en desarrollar una estrategia que sea \"lógica\" y que se ajuste a la demanda real, evitando así crear una burbuja que pueda colapsar ante la falta de resultados tangibles. Respecto a si sería conveniente frenar la estrategia de hidrógeno verde en Chile, Godoy sugirió que, en lugar de detenerla, lo adecuado sería desarrollar una hoja de ruta más pragmática y escalonada.  \" Yo diría no frenar la estrategia, pero sí armar una hoja de ruta que sea aditiva en el tiempo.  Partir por cosas pragmáticas, por cosas más asibles, más que pensar en que vamos a ser los portadores de hidrógeno para todo el mundo\", señaló el académico, destacando la necesidad de plantear objetivos realistas que permitan el desarrollo de proyectos rentables y amigables con el medio ambiente.  \"No vaya a ser que se compre un elefante blanco y que las inversiones generen una burbuja que luego caiga\". Álex Godoy  Godoy alertó sobre los riesgos de generar expectativas demasiado optimistas que no se alineen con la realidad del mercado y la tecnología actual.   \"No vaya a ser que se compre un elefante blanco y que las inversiones generen una burbuja que luego caiga\",  advirtió, subrayando la importancia de una planificación a largo plazo que se ajuste a la demanda real. El experto de la UDD también comentó que las señales en torno al hidrógeno verde han sido inspiradas en un \"voluntarismo\" que no se ha traducido en avances tecnológicos suficientes para satisfacer la demanda actual.  \" Había bastante voluntarismo. Tenemos que ser pragmáticos y ver cómo están las tecnologías, dónde se usan y cuál es la demanda real hoy día \", afirmó Godoy. Según su visión, es necesario enfocarse en las oportunidades concretas y evitar apostar por un mercado que podría verse desplazado por otras tecnologías más eficientes y económicas. Por su parte,  Rodrigo Cáceres , académico del Centro de Energía y Desarrollo Sustentable (CEDS) de la UDP destacó que, si bien existe un impulso en inversiones relacionadas con el hidrógeno verde, como el proyecto en Magallanes, que se ha convertido en un referente, los desafíos económicos y tecnológicos son una realidad ineludible.  \"Las señales indican que aún hay desafíos para alcanzar los costos de US$1/kg, lo que podría requerir más subsidios y ha afectado a pequeños negocios, sugiriendo que, por ahora, debe enfocarse en proyectos de gran escala\", explicó Cáceres. Ambos expertos coincidieron en que ha habido un cierto \"enfriamiento\" en el interés por invertir en hidrógeno verde, aunque con matices.  Para Godoy, este enfriamiento no necesariamente implica una disminución del interés, sino una mayor cautela y un ajuste a las realidades del mercado.  \" Más que un enfriamiento, se ha empezado a poner en contexto la realidad de la potencialidad del hidrógeno verde \", mencionó.  \"Desde hace años que pienso que el tema del hidrogeno verde está muy inflado\". Ronald Fischer  Cáceres agregó que los altos costos han sido un factor crucial en este proceso. \"Los costos del hidrógeno verde han aumentado en lugar de disminuir, complicando el panorama para alcanzar la meta de $1 por kg establecida para hacerlo competitivo\", detalló el académico, explicando que los costos actuales oscilan entre $3 y $5 por kg debido a factores como el precio de la electricidad y la inflación.  \"Aunque hay iniciativas para reducir estos costos a través de subsidios y mejoras tecnológicas, aún estamos lejos de alcanzar el objetivo de US$1/kg, especialmente sin apoyos adicionales como los implementados en Estados Unidos y la Unión Europea\", añadió. Mientras que  Ronald Fischer,  investigador del Centro de Economía Aplicada (CEA) de Ingeniería Industrial de la U. de Chile, afirmó que  \"desde hace años que pienso que el tema del hidrogeno verde está muy inflado\" , añadiendo que  \"creo que el mercado no será tan importante. Habrá un mercado relevante, pero no será una panacea para Chile\".  Dicho eso, Fischer aseguró ser más optimista en lo que respecta a los costos de producción del hidrógeno verde. \"Creo que van a caer notablemente, especialmente porque se producirá en lugares de bajo costo de energía, como Chile, Australia, el Sahara, etc.\". '}, {'date': '2024-10-14', 'id_news': '54.293.366', 'title': 'Subpesca solicita a la industria del hidrógeno verde medidas de protección para ballenas, toninas y pingüino de Magallanes', 'url': 'https://laprensaaustral.cl/2024/10/15/subpesca-solicita-a-la-industria-del-hidrogeno-verde-medidas-de-proteccion-para-ballenas-toninas-y-pinguino-de-magallanes/', 'polarity_score': '-', 'polarity_label': '-', 'media_outlet': 'laprensaaustral', 'country': 'chile', 'combined': 'Subpesca solicita a la industria del hidrógeno verde medidas de protección para ballenas, toninas y pingüino de Magallanes – Eliana Ximena Oyarzún Nancuante La División de Acuicultura de la Subsecretaría de Pesca y Acuicultura ha emitido un conjunto de observaciones críticas tras la revisión del Estudio de Impacto Ambiental (EIA) del “Proyecto integral para la producción y exportación de amoniaco verde-HNH Energy”. En general, estas observaciones subrayan la necesidad de implementar medidas adicionales para proteger ecosistemas y especies marinas, cumpliendo estrictamente con la normativa ambiental. También incluyen consideraciones respecto de los planes de cumplimiento de la legislación ambiental aplicable, de los efectos, características o circunstancias que dan origen a la necesidad de efectuar un EIA, de la predicción y evaluación del impacto ambiental, y de los planes de mitigación, reparación, compensación y seguimiento de las variables ambientales relevantes. Ecosistemas marinos Entre las observaciones de la repartición, destaca la solicitud de considerar dentro del área de influencia las zonas de fondeo, espera y maniobra de la navegación, la presencia de varias especies de mamíferos marinos en categoría de conservación identificadas en el EIA, como la ballena Sei (en peligro crítico), la ballena franca austral y la tonina overa (en peligro). Además, se exige la presentación de un protocolo de navegación específico para el estrecho de Magallanes, con el fin de reducir al mínimo la interferencia con estas especies, incluyendo medidas para evitar colisiones y disminuir las emisiones de ruido submarino, considerando especialmente la presencia de crías de ballena franca austral y tonina overa en el área. Este órgano de administración del Estado también ha solicitado la inclusión del Pingüino de Magallanes (Spheniscus magellanicus), en el análisis del área de influencia del proyecto y la evaluación de posibles impactos, pues entre septiembre y marzo, esta especie habita la isla Magdalena, área ubicada aproximadamente a 50 km del área del proyecto. Esta colonia es uno de los sitios más importantes de nidificación para esta especie en la región, y podría verse afectada debido al proyecto, en su ciclo reproductivo, hábitos alimenticios y desplazamientos, los cuales alcanzan hasta 180 km. La subsecretaría también solicita que se implementen medidas estrictas, particularmente durante la construcción del proyecto, para evitar impactos sobre los bancos naturales de Macrocystis pyrifera (sargazo gigante) y lapas del género Fissurella, cuya presencia en la zona de influencia es reconocida por el estudio. La petición específica dice relación con describir las dimensiones de las praderas afectadas y el porcentaje de corta, asegurando la regeneración de los individuos. Además, se ha requerido la identificación de las lapas a nivel de especie y una evaluación sobre la pertinencia de realizar actividades de rescate y relocalización de estos organismos afectados por la instalación de estructuras submarinas. Captación deaguas marinas El sistema de captación de aguas marinas proyecta una capacidad de 1.703 m³/hora, equivalente a 40.872 m³/día. La subsecretaría de Pesca y Acuicultura ha señalado que, dado el volumen significativo de captación, se deben implementar barreras físicas y controles de velocidad en el sistema, para minimizar el arrastre y atrapamiento de especies hidrobiológicas, sobre todo, de aquéllas en etapas juveniles que se encuentran bajo medidas restrictivas de administración. Además, se recomendó al titular evaluar la factibilidad técnica de sistemas de captación alternativos de bajo o nulo impacto, como la disposición de pozos costeros verticales u oblicuos bajo el lecho marino, que permiten acceder al agua marina sin afectar directamente las especies en el lecho. Un sistema de este tipo también podría mejorar la calidad del agua captada, reduciendo la necesidad de utilizar anti-incrustantes y floculantes. De no poder implementarse estas alternativas, el titular deberá fundamentar la decisión técnica, detallando las razones. En cuanto al monitoreo, se ha solicitado al titular que implemente un sistema continuo de medición de la velocidad de captación durante la etapa de construcción y operación, con notificación en línea para asegurar un seguimiento preciso y oportuno. Además, se requiere más información sobre las características de los ductos de succión y descarga de agua de mar, incluyendo coordenadas geográficas, materialidad, profundidades y caudales. Finalmente, se ha solicitado que la modelación de la dispersión de la salmuera sea complementada con el análisis de los productos químicos utilizados en el proceso de desalinización, como el hipoclorito de sodio, cuyo impacto en el medio marino puede ser significativo, debido a la formación de subproductos tóxicos que pueden contribuir a la eutroficación. En otras palabras, se busca evitar el proceso de contaminación más importante de las aguas, que consiste en el crecimiento excesivo de algas y bacterias, generando disminuciones de oxígeno, mortalidad masiva de peces y crustáceos, y proliferación de especies de predadores. Estas observaciones se suman a las entregadas por otros órganos de la Administración del Estado chileno, para ajustar el Estudio de Impacto Ambiental de esta empresa de capitales austriacos y daneses, con la intención de garantizar la sostenibilidad de las operaciones que proyecta en la zona.'}, {'date': '2024-10-14', 'id_news': '54.293.490', 'title': 'Sindicato de Trabajadores Enap llama a “aterrizar” las expectativas sobre los proyectos de hidrógeno verde', 'url': 'https://laprensaaustral.cl/2024/10/15/sindicato-de-trabajadores-enap-llama-a-aterrizar-las-expectativas-sobre-los-proyectos-de-hidrogeno-verde/', 'polarity_score': '-', 'polarity_label': '-', 'media_outlet': 'laprensaaustral', 'country': 'chile', 'combined': 'Sindicato de Trabajadores Enap llama a “aterrizar” las expectativas sobre los proyectos de hidrógeno verde – Eliana Ximena Oyarzún Nancuante Su profunda preocupación sobre las expectativas que han despertado en la población los proyectos de hidrógeno verde en Magallanes, planteó el Sindicato de Trabajadores de Enap. La dirigencia expuso que como organización sindical, resulta necesario, ante una serie de informaciones que se han venido ventilando respecto de las numerosas iniciativas energéticas, las que si bien, partieron con interesantes estudios de factibilidad, resulta importante atender de manera integral las interrogantes que circundan en los habitantes de la región. Si bien, subrayan, “se trata de una coyuntura técnica, cuesta entender que todos los días se generen expectativas en base a anuncios de desarrollo de nuevas energías y de empleabilidad en la región, incluso existe una asociación de empresas y que dentro de ese desarrollo se incursionará también en el desarrollo de sus derivados como amoniaco, con certezas de tratarse de energía verde, a bajo costo y sin contaminación, toda vez que existen oficios respecto de no conformidades y elementos importantes que no se consideraron en la tramitación de permisos, que, sin dudas generan suspicacias, como la claridad en los procesos de volúmenes por almacenamiento, transporte, lugares de acopio, trazados, etc.”. Frente a tantos anuncios y sobreexposición producido por deserciones, imputaciones burocráticas entre organismos, la organización sindical considera que es necesario aterrizar de manera racional estos proyectos a la brevedad en el seno de las organizaciones territoriales y fuerzas vivas de la región en todas sus circunstancias y que no termine en un proyecto-problema, que finalice truncando las expectativas de mano de obra y un desarrollo regional energético equilibrado en todos sus aspectos. En su declaración, el ente gremial sostiene que “como Sindicato de Trabajadores de Enap Magallanes, en constante seguimiento a los acontecimientos que signifiquen desarrollo de energías y trabajo para nuestros ciudadanos, nos preocupa que muchos de estos proyectos entre tantas controversias terminen cayéndose a pedazos. Hoy nuestra posición prevaleciente es que tenemos un desarrollo asegurado, limpio, de bajo costo de producción como lo es el gas producido en Magallanes. Por lo tanto, los proyectos de combustibles sintéticos anunciados son de largo plazo y de alto costo, cuyos efectos deben ser acuciosamente revisados por la autoridad competente, tomando en cuenta la importancia de la participación informada de la ciudadanía, independiente que el gobierno, a través del ministro Pardow impulse y acelere acuerdos”. Por lo demás, agregan “desde una política energética resulta urgente incursionar en otros aspectos que mitiguen bajar consecuencias contaminantes como efecto invernadero al sur de nuestro país”, señalaron los dirigentes. LECTURA: '}]\n"
     ]
    }
   ],
   "source": [
    "#Se puede omitir si ya tiene cargados los datos\n",
    "df = pd.read_csv('hidrogeno_verde.csv')\n",
    "df['date'] = pd.to_datetime(df['date'], format='%b %d, %Y @ %H:%M:%S.%f')\n",
    "df['date'] = df['date'].dt.strftime('%Y-%m-%d')\n",
    "df['combined'] = df['title'] + ' ' + df['text']\n",
    "documents = df['text'].tolist() \n",
    "metadata_list = df.drop(columns=['text']).to_dict(orient='records') \n",
    "\n",
    "# Almacenar en ChromaDB\n",
    "store_in_chromadb(documents, metadata_list)\n",
    "print(metadata_list[:5])  # Muestra los primeros 5 metadatos\n"
   ]
  },
  {
   "cell_type": "code",
   "execution_count": 113,
   "metadata": {},
   "outputs": [],
   "source": [
    "# Función para realizar la búsqueda en ChromaDB\n",
    "def search_in_chromadb(query):\n",
    "    # Realiza la búsqueda en ChromaDB utilizando la consulta\n",
    "    results = doc_collection.query(\n",
    "        query_embeddings=embeddings.embed_query(query),\n",
    "        n_results=3  # Número de resultados a obtener\n",
    "    )\n",
    "    return results\n",
    "\n",
    "\n"
   ]
  },
  {
   "cell_type": "code",
   "execution_count": 1,
   "metadata": {},
   "outputs": [
    {
     "ename": "NameError",
     "evalue": "name 'Tool' is not defined",
     "output_type": "error",
     "traceback": [
      "\u001b[1;31m---------------------------------------------------------------------------\u001b[0m",
      "\u001b[1;31mNameError\u001b[0m                                 Traceback (most recent call last)",
      "Cell \u001b[1;32mIn[1], line 57\u001b[0m\n\u001b[0;32m     54\u001b[0m     \u001b[38;5;28;01mreturn\u001b[39;00m page\u001b[38;5;241m.\u001b[39mget(\u001b[38;5;124m'\u001b[39m\u001b[38;5;124mextract\u001b[39m\u001b[38;5;124m'\u001b[39m, \u001b[38;5;124m\"\u001b[39m\u001b[38;5;124mNo se encontró información en Wikipedia.\u001b[39m\u001b[38;5;124m\"\u001b[39m)\n\u001b[0;32m     55\u001b[0m \u001b[38;5;66;03m# Crear herramientas\u001b[39;00m\n\u001b[0;32m     56\u001b[0m tools \u001b[38;5;241m=\u001b[39m [\n\u001b[1;32m---> 57\u001b[0m      \u001b[43mTool\u001b[49m(\n\u001b[0;32m     58\u001b[0m         name\u001b[38;5;241m=\u001b[39m\u001b[38;5;124m\"\u001b[39m\u001b[38;5;124mChromaDB Search by Date\u001b[39m\u001b[38;5;124m\"\u001b[39m,\n\u001b[0;32m     59\u001b[0m         func\u001b[38;5;241m=\u001b[39mchromadb_tool_with_dates,\n\u001b[0;32m     60\u001b[0m         description\u001b[38;5;241m=\u001b[39m\u001b[38;5;124m\"\u001b[39m\u001b[38;5;124mBusca en ChromaDB documentos relevantes en un rango de fechas y cuenta menciones de personajes.\u001b[39m\u001b[38;5;124m\"\u001b[39m\n\u001b[0;32m     61\u001b[0m     ),\n\u001b[0;32m     62\u001b[0m     Tool(\n\u001b[0;32m     63\u001b[0m         name\u001b[38;5;241m=\u001b[39m\u001b[38;5;124m\"\u001b[39m\u001b[38;5;124mChromaDB Search\u001b[39m\u001b[38;5;124m\"\u001b[39m,\n\u001b[0;32m     64\u001b[0m         func\u001b[38;5;241m=\u001b[39msearch_tool,\n\u001b[0;32m     65\u001b[0m         description\u001b[38;5;241m=\u001b[39m\u001b[38;5;124m\"\u001b[39m\u001b[38;5;124mBusca en la base de datos de ChromaDB los documentos relevantes.\u001b[39m\u001b[38;5;124m\"\u001b[39m\n\u001b[0;32m     66\u001b[0m     ),\n\u001b[0;32m     67\u001b[0m     Tool(\n\u001b[0;32m     68\u001b[0m         name\u001b[38;5;241m=\u001b[39m\u001b[38;5;124m\"\u001b[39m\u001b[38;5;124mWikipedia Search\u001b[39m\u001b[38;5;124m\"\u001b[39m,\n\u001b[0;32m     69\u001b[0m         func\u001b[38;5;241m=\u001b[39mwikipedia_search,\n\u001b[0;32m     70\u001b[0m         description\u001b[38;5;241m=\u001b[39m\u001b[38;5;124m\"\u001b[39m\u001b[38;5;124mConsulta Wikipedia para obtener más información sobre el tema.\u001b[39m\u001b[38;5;124m\"\u001b[39m\n\u001b[0;32m     71\u001b[0m     )\n\u001b[0;32m     72\u001b[0m ]\n\u001b[0;32m     74\u001b[0m prompt_template \u001b[38;5;241m=\u001b[39m \u001b[38;5;124m\"\"\"\u001b[39m\n\u001b[0;32m     75\u001b[0m \u001b[38;5;124mEres un agente que puede interactuar con herramientas para obtener información relevante para responder preguntas. \u001b[39m\n\u001b[0;32m     76\u001b[0m \u001b[38;5;124mTienes acceso a dos herramientas:\u001b[39m\n\u001b[1;32m   (...)\u001b[0m\n\u001b[0;32m     84\u001b[0m \u001b[38;5;124mSi es posible, utiliza primero la búsqueda en ChromaDB, si no encuentras suficiente información, consulta Wikipedia.\u001b[39m\n\u001b[0;32m     85\u001b[0m \u001b[38;5;124m\"\"\"\u001b[39m\n\u001b[0;32m     87\u001b[0m \u001b[38;5;66;03m# Crear el PromptTemplate\u001b[39;00m\n",
      "\u001b[1;31mNameError\u001b[0m: name 'Tool' is not defined"
     ]
    }
   ],
   "source": [
    "def search_tool(query):\n",
    "    search_results = search_in_chromadb(query)\n",
    "    return \"\\n\".join([str(doc) for doc in search_results['documents']])\n",
    "\n",
    "def extract_dates_from_query(query):\n",
    "    import re\n",
    "    # Busca fechas en formato \"dd-mm-yyyy\" o \"dd de mes de yyyy\"\n",
    "    match = re.findall(r\"(\\d{1,2})[-/\\s]?(\\w+)?[-/\\s]?(\\d{4})\", query)\n",
    "    if len(match) >= 2:\n",
    "        start_date = \"-\".join(reversed(match[0]))\n",
    "        end_date = \"-\".join(reversed(match[1]))\n",
    "        return start_date, end_date\n",
    "    return None, None\n",
    "\n",
    "# def convert_metadata_dates_to_datetime(metadata):\n",
    "#     # Convertir la fecha en cada metadato a datetime\n",
    "#     for doc in metadata:\n",
    "#         # Si la fecha existe y es una cadena, la convertimos a datetime\n",
    "#         if 'date' in doc and isinstance(doc['date'], str):\n",
    "#             try:\n",
    "#                 doc['date'] = datetime.strptime(doc['date'], \"%Y-%m-%d\")\n",
    "#             except ValueError:\n",
    "#                 print(f\"Fecha incorrecta en el documento {doc}. No se puede convertir.\")\n",
    "#     return metadata\n",
    "\n",
    "def search_in_chromadb_with_dates(query, start_date, end_date):\n",
    "    results = doc_collection.get()\n",
    "    filtered_results = [\n",
    "            doc for doc, metadata in zip(results['documents'], results['metadatas'])\n",
    "            if 'date' in metadata and start_date <= metadata['date'] <= end_date\n",
    "        ]\n",
    "    return filtered_results\n",
    "\n",
    "def chromadb_tool_with_dates(query):\n",
    "    if not query.strip():\n",
    "        return \"La consulta está vacía. Por favor, proporciona una consulta válida.\"\n",
    "    \n",
    "    # Extraer fechas de la consulta\n",
    "    start_date, end_date = extract_dates_from_query(query)\n",
    "    if not start_date or not end_date:\n",
    "        return \"No se encontraron fechas válidas en la consulta. Por favor, incluye un rango de fechas claro.\"\n",
    "    \n",
    "    # Realizar la búsqueda\n",
    "    try:\n",
    "        search_results = search_in_chromadb_with_dates(\"personajes\", start_date, end_date)\n",
    "        # character_counts = count_character_mentions(search_results)\n",
    "        return f\"Personajes más mencionados entre {search_results}\"\n",
    "    except Exception as e:\n",
    "        return f\"Hubo un error al buscar en la base de datos: {str(e)}\"\n",
    "\n",
    "\n",
    "\n",
    "# Función para búsqueda en Wikipedia\n",
    "def wikipedia_search(query):\n",
    "    response = requests.get(f\"https://es.wikipedia.org/w/api.php\", params={\n",
    "        \"action\": \"query\",\n",
    "        \"format\": \"json\",\n",
    "        \"titles\": query,\n",
    "        \"prop\": \"extracts\",\n",
    "        \"exintro\": True\n",
    "    })\n",
    "    pages = response.json()['query']['pages']\n",
    "    page = next(iter(pages.values()))\n",
    "    return page.get('extract', \"No se encontró información en Wikipedia.\")\n",
    "# Crear herramientas\n",
    "tools = [\n",
    "     Tool(\n",
    "        name=\"ChromaDB Search by Date\",\n",
    "        func=chromadb_tool_with_dates,\n",
    "        description=\"Busca en ChromaDB documentos relevantes en un rango de fechas y cuenta menciones de personajes.\"\n",
    "    ),\n",
    "    Tool(\n",
    "        name=\"ChromaDB Search\",\n",
    "        func=search_tool,\n",
    "        description=\"Busca en la base de datos de ChromaDB los documentos relevantes.\"\n",
    "    ),\n",
    "    Tool(\n",
    "        name=\"Wikipedia Search\",\n",
    "        func=wikipedia_search,\n",
    "        description=\"Consulta Wikipedia para obtener más información sobre el tema.\"\n",
    "    )\n",
    "]\n",
    "\n",
    "prompt_template = \"\"\"\n",
    "Eres un agente que puede interactuar con herramientas para obtener información relevante para responder preguntas. \n",
    "Tienes acceso a dos herramientas:\n",
    "\n",
    "1. **ChromaDB Search**: Busca en una base de datos de documentos para obtener información relevante.\n",
    "2. **Wikipedia Search**: Realiza una consulta a Wikipedia para obtener un resumen de un tema.\n",
    "2. **ChromaDB Search by date**: Realiza una consulta en la Base de datos entre dos fechas específicas y obtener información relevante.\n",
    "\n",
    "\n",
    "Cuando recibas una pregunta, debes decidir qué herramienta usar y cómo responder de manera concisa y precisa. \n",
    "Si es posible, utiliza primero la búsqueda en ChromaDB, si no encuentras suficiente información, consulta Wikipedia.\n",
    "\"\"\"\n",
    "\n",
    "# Crear el PromptTemplate\n",
    "prompt = PromptTemplate(input_variables=[\"tools\", \"query\", \"agent_scratchpad\", \"tool_names\"], template=prompt_template)\n",
    "agent = initialize_agent(\n",
    "    tools=tools,\n",
    "    llm=llm,\n",
    "    agent_type=AgentType.ZERO_SHOT_REACT_DESCRIPTION,\n",
    "    verbose=True\n",
    ")\n",
    "\n",
    "\n"
   ]
  },
  {
   "cell_type": "code",
   "execution_count": 167,
   "metadata": {},
   "outputs": [
    {
     "name": "stdout",
     "output_type": "stream",
     "text": [
      "\n",
      "\n",
      "\u001b[1m> Entering new AgentExecutor chain...\u001b[0m\n",
      "\u001b[32;1m\u001b[1;3mNecesito buscar en la base de datos de ChromaDB utilizando la herramienta de búsqueda por fecha y contar las menciones de personajes.\n",
      "Action: ChromaDB Search by Date\n",
      "Action Input: 16-09-2024 to 16-09-2024\u001b[0m\n",
      "Observation: \u001b[36;1m\u001b[1;3mPersonajes más mencionados entre ['Un cambio en la matriz energética con miras a convertirnos en un país carbono neutral y resiliente antes de 2050 es el principal objetivo del Plan de Acción Hidrógeno Verde 2023-2030, el cual busca aprovechar la extensa cadena de valor de este combustible limpio para posicionar a Chile como productor, consumidor y también como exportador, aprovechando además las potencialidades que brinda como ruta el Estrecho de Magallanes. Es en este contexto que la Pontificia Universidad Católica de Valparaíso (PUCV) se encuentra ejecutando un proyecto del Ministerio de Energía, en alianza con la Universidad de Magallanes (UMAG) y el Gobierno Regional, cuyo objetivo principal es elaborar un Plan de Infraestructura Logística Estratégica en la Región de Magallanes y de la Antártica Chilena. La iniciativa tiene como propósito asegurar el desarrollo sostenible de la economía regional mediante la preparación de una red de infraestructura portuaria y logística capaz de soportar el crecimiento de la industria del hidrógeno verde, considerada clave para el futuro energético de Chile y el mundo. El proyecto, liderado por los académicos de la Escuela de Ingeniería de Construcción y Transporte de la PUCV, Álvaro Peña, Alex Paz y Matías Valenzuela, consiste en el levantamiento de información, análisis de variables y determinación de brechas para la instalación de la industria del hidrógeno verde en esa zona. El estudio se centra en identificar y abordar las debilidades que pudiesen presentarse en la cadena productiva y analizar los desafíos actuales en infraestructura, transporte, almacenamiento y regulación con el objetivo de diseñar un marco estratégico. Asimismo, plantea la definición de escenarios de producción de hidrógeno verde hasta el año 2050, incluyendo la evaluación de distintas rutas y métodos de transporte desde los puntos de generación eléctrica hasta los lugares de embarque. “Esto significa diseñar un programa de financiamiento mixto que incluya inversiones públicas y privadas, de manera que los movimientos esperados de insumos y productos de la industria del hidrógeno verde y sus derivados en Magallanes no se vean limitados por falta de capacidad logístico portuaria”, manifestó Álvaro Peña. El investigador explicó que, además de estos objetivos, el proyecto también aborda los posibles efectos logísticos que el desarrollo de esta industria tendrá sobre el territorio. “Se espera que estos impactos incluyan un aumento significativo en el tráfico marítimo y terrestre, así como una mayor demanda de infraestructura de almacenamiento y servicios de apoyo, lo que implicará un desafío considerable que deberá ser gestionado cuidadosamente para evitar cuellos de botella y asegurar un flujo constante de insumos y productos”, afirmó. INDUSTRIA INTELIGENTE Este estudio se articula además con el Doctorado en Industria Inteligente que imparte la PUCV –programa único en Chile que persigue dotar al país de investigación interdisciplinaria en el campo de la ingeniería para dar solución a problemas claves de sectores productivos–, integrando soluciones tecnológicas avanzadas. El objetivo es asegurar que el proyecto esté alineado con los criterios de sostenibilidad y eficiencia que son esenciales para el éxito del hidrógeno verde a nivel nacional e internacional. Dentro de las líneas e investigaciones doctorales que se están desarrollando, se encuentra el análisis de las propiedades geotécnicas de los suelos en Magallanes mediante ensayos de laboratorio y terreno que incluyen la evaluación de las condiciones semi saturadas del suelo, cruciales en la región para comprender el comportamiento mecánico bajo diversas cargas y condiciones ambientales. Asimismo, en el caso que las propiedades y resistencias no cumplan los criterios del proyecto, se proponen técnicas de estabilización que mejoren las características del suelo, garantizando así la viabilidad de las infraestructuras asociadas al hidrógeno verde. La académica de la Universidad de Magallanes (UMAG) y estudiante del Doctorado en Industria Inteligente de la PUCV, Berta Vivar, desarrolla la tesis “Estabilización de suelos considerando condiciones semi saturadas de la Región de Magallanes”, trabajo que se integra en el desarrollo de este proyecto en la zona. “Mi investigación está aplicada a los grandes desafíos que la industria del hidrógeno verde –que ya está instalada en la región– presenta, de manera de garantizar la viabilidad de infraestructuras que serán requeridas por esta industria, dando un enfoque proactivo desde la perspectiva geotécnica y de ingeniería civil, a través de un amplio programa experimental y también utilizando Inteligencia Artificial que nos permitirá predecir resultados”, manifestó Vivar. La estudiante del Doctorado, además explicó que, dentro de su labor, está “el realizar estudios de curvas de succión, así como simular mejoras en condiciones monotónicas y cíclicas, las cuales nos permitirán calibrar modelos constitutivos que serán capaces, en el futuro, de mejorar la seguridad de las obras geotécnicas, así como también disminuir los costos de construcción”. Sostuvo que gracias a la colaboración que hay entre ambas universidades, realizó una pasantía en la PUCV donde se capacitó en el manejo de diversos equipos que serán utilizados en el trabajo de campo. Cabe consignar que el Doctorado en Industria Inteligente no solo contribuye con el desarrollo científico y técnico, necesario para el éxito del proyecto de hidrógeno verde en Magallanes, sino que también consolida la participación de la PUCV en la transformación energética del país.  Categorías:Valparaíso Etiquetado como:Educación,Medio Ambiente,Nacional,Tecnología']\u001b[0m\n",
      "Thought:\u001b[32;1m\u001b[1;3mDesde el documento observado, los personajes mencionados son: Álvaro Peña, Alex Paz, Matías Valenzuela y Berta Vivar.\n",
      "Final Answer: Los personajes más mencionados entre el 16-09-2024 y el 16-09-2024 son Álvaro Peña, Alex Paz, Matías Valenzuela y Berta Vivar.\u001b[0m\n",
      "\n",
      "\u001b[1m> Finished chain.\u001b[0m\n",
      "{'input': '¿Quiénes son los 5 personajes más mencionados entre el 16-09-2024 y el 16-09-2024?', 'output': 'Los personajes más mencionados entre el 16-09-2024 y el 16-09-2024 son Álvaro Peña, Alex Paz, Matías Valenzuela y Berta Vivar.'}\n"
     ]
    }
   ],
   "source": [
    "# Ejecutar el agente con una consulta usando `invoke`\n",
    "query = \"¿Quiénes son los 5 personajes más mencionados entre el 16-09-2024 y el 16-09-2024?\"\n",
    "response = agent.invoke(query)\n",
    "\n",
    "# Mostrar la respuesta\n",
    "print(response)\n"
   ]
  },
  {
   "cell_type": "markdown",
   "metadata": {},
   "source": [
    "Las 4 personas que aparecen en la noticia del 16-09-2024 son: Álvaro Peña, Alex Paz, Matías Valenzuela y Berta Vivar  \n"
   ]
  }
 ],
 "metadata": {
  "kernelspec": {
   "display_name": "Python 3",
   "language": "python",
   "name": "python3"
  },
  "language_info": {
   "codemirror_mode": {
    "name": "ipython",
    "version": 3
   },
   "file_extension": ".py",
   "mimetype": "text/x-python",
   "name": "python",
   "nbconvert_exporter": "python",
   "pygments_lexer": "ipython3",
   "version": "3.13.1"
  }
 },
 "nbformat": 4,
 "nbformat_minor": 2
}
