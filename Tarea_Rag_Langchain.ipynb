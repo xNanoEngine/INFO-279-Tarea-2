{
 "cells": [
  {
   "cell_type": "code",
   "execution_count": null,
   "metadata": {},
   "outputs": [],
   "source": [
    "from langchain_openai import ChatOpenAI\n",
    "from langchain.prompts import PromptTemplate\n",
    "from langchain.agents import AgentType\n",
    "from langchain.agents import Tool, initialize_agent\n",
    "import chromadb\n",
    "from langchain.embeddings import OpenAIEmbeddings\n",
    "import pandas as pd\n",
    "import requests"
   ]
  },
  {
   "cell_type": "code",
   "execution_count": null,
   "metadata": {},
   "outputs": [
    {
     "name": "stderr",
     "output_type": "stream",
     "text": [
      "C:\\Users\\mati1\\AppData\\Local\\Temp\\ipykernel_24080\\2142505646.py:3: LangChainDeprecationWarning: The class `OpenAIEmbeddings` was deprecated in LangChain 0.0.9 and will be removed in 1.0. An updated version of the class exists in the :class:`~langchain-openai package and should be used instead. To use it run `pip install -U :class:`~langchain-openai` and import as `from :class:`~langchain_openai import OpenAIEmbeddings``.\n",
      "  embeddings = OpenAIEmbeddings(openai_api_key=api_key)\n"
     ]
    }
   ],
   "source": [
    "api_key = \"\"\n",
    "llm = ChatOpenAI(temperature=0.7, openai_api_key=api_key, model='gpt-4')\n",
    "embeddings = OpenAIEmbeddings(openai_api_key=api_key)\n",
    "chain =  llm"
   ]
  },
  {
   "cell_type": "code",
   "execution_count": 3,
   "metadata": {},
   "outputs": [],
   "source": [
    "client = chromadb.PersistentClient(path=\".\")\n",
    "doc_collection = client.create_collection(name=\"hidrogeno_verde\")"
   ]
  },
  {
   "cell_type": "code",
   "execution_count": null,
   "metadata": {},
   "outputs": [],
   "source": [
    "def store_in_chromadb(documents, metadata_list):\n",
    "    for idx, (doc, metadata) in enumerate(zip(documents, metadata_list)):\n",
    "        embedding = embeddings.embed_query(doc)  # Genera el embedding\n",
    "        doc_collection.add(\n",
    "            ids=[str(idx)],  # ID único para cada documento\n",
    "            documents=[doc],  # Documento en formato texto\n",
    "            embeddings=[embedding],  # Embedding generado\n",
    "            metadatas=[metadata]  # Información adicional (opcional)\n",
    "        )\n"
   ]
  },
  {
   "cell_type": "code",
   "execution_count": 6,
   "metadata": {},
   "outputs": [],
   "source": [
    "\n",
    "df = pd.read_csv('hidrogeno_verde.csv')\n",
    "df['date'] = pd.to_datetime(df['date'], format='%b %d, %Y @ %H:%M:%S.%f')\n",
    "df['date'] = df['date'].dt.strftime('%Y-%m-%d')\n",
    "df['combined'] = df['title'] + ' ' + df['text']\n",
    "documents = df['text'].tolist() \n",
    "metadata_list = df.drop(columns=['text']).to_dict(orient='records') \n",
    "\n",
    "# Almacenar en ChromaDB\n",
    "store_in_chromadb(documents, metadata_list)"
   ]
  },
  {
   "cell_type": "code",
   "execution_count": 7,
   "metadata": {},
   "outputs": [],
   "source": [
    "# Función para realizar la búsqueda en ChromaDB\n",
    "def search_in_chromadb(query):\n",
    "    # Realiza la búsqueda en ChromaDB utilizando la consulta\n",
    "    results = doc_collection.query(\n",
    "        query_embeddings=embeddings.embed_query(query),\n",
    "        n_results=3  # Número de resultados a obtener\n",
    "    )\n",
    "    return results"
   ]
  },
  {
   "cell_type": "code",
   "execution_count": null,
   "metadata": {},
   "outputs": [
    {
     "name": "stdout",
     "output_type": "stream",
     "text": [
      "\n",
      "\n",
      "\u001b[1m> Entering new AgentExecutor chain...\u001b[0m\n",
      "\u001b[32;1m\u001b[1;3mNo tengo información inmediata sobre el hidrógeno verde. Voy a buscar en la base de datos de ChromaDB para obtener información relevante.\n",
      "Action: ChromaDB Search\n",
      "Action Input: Hidrogeno verde\u001b[0m\n",
      "Observation: \u001b[36;1m\u001b[1;3m['El Hidrógeno Verde, también denominado el combustible del futuro, es una alternativa que se quiere potenciar tanto a nivel público como privado.Y, en esa línea, Enel y Eni, empresas líderes del sector energético a nivel mundial, están trabajando en colaboración para desarrollar proyectos de esta índole. Específicamente, estas empresas esperan producir hidrógeno verde mediante electrolizadores alimentados por energía renovable. Los electrolizadores estarán emplazados cerca de dos de las refinerías de Eni, en Italia, donde el hidrógeno verde parece ser la mejor opción de descarbonización. Además, caada uno de los dos proyectos piloto contará con un electrolizador de alrededor de 10 MW y se prevé que comiencen a generar hidrógeno verde en el período 2022-2023. “Esta asociación en materia de hidrógeno verde forma parte de la estrategia de transición energética global de Eni. Nuestro objetivo es acelerar la reducción de nuestra huella de carbono poniendo en práctica la mejor solución de bajo carbono disponible, ya sea verde o azul, para reducir nuestras emisiones directas, así como optar por los bioproductos a la hora de abastecer a nuestros clientes”, señaló Claudio Descalzi, CEO de Eni Mientras que desde el Grupo Enel, su CEO y director general, Francesco Starace, destacó que “estamos interesados en explorar con Eni el prometedor sector del hidrógeno verde. Juntos, hemos localizado un par de sitios donde podemos iniciar los primeros proyectos. Nuestro sistema general funcionará como un circuito cerrado en el que el electrolizador alimentado por energía renovable y la refinería se encontrarán en el mismo lugar, evitando así la construcción de una compleja infraestructura de transporte para el traslado del hidrógeno. Esperamos ver cómo el hidrógeno verde abastece los procesos de refinería y biorrefinería de Eni, y estamos trabajando con miras a contar con el primer sistema operativo antes de que finalice nuestro actual plan de tres años”. En su búsqueda de potenciar el hidrógeno verde, el Grupo Enel también está desarrollando proyectos asociados a éste en España, Estados Unidos y Chile. Y, de confirmarse las mejoras económicas esperadas de la industria del hidrógeno verde, el Grupo tiene presupuestado incrementar su capacidad de producción de hidrógeno verde a más de 2 GW en 2030. ', 'El hidrógeno verde (H2) es un tipo hidrógeno que carece de emisiones de CO2. Su generación puede hacerse mediante electrólisis o bien, usando energías renovables, sean estas solares o eólicas. En ese marco, y como una alternativa al creciente consumo mundial de energía, y en el contexto de las acciones de los países para contrarrestar el cambio climático, surgen iniciativas. Es así que, para contar con plantas generadoras y almacenadoras de energía, pieza clave en la estructura energética de los países, se busca con mucho interés sustituir el uso de los combustibles fósiles. El proyecto de H2 previsto para Magallanes es el más grande de Chile y es una alianza pública privada con la empresa Total Eren. La multinacional francesa de electricidad tiene plantas generadoras de energía en todo el mundo. “H2Magallanes” tiene prevista la generación de 10 GW de capacidad eólica instalada y se ubicará en la Comuna de San Gregorio frente al mar. El complejo energético, constituido a partir de la planta de electricidad, se une a una segunda instalación que producirá más energía (de hasta 8 GW de capacidad) mediante electrólisis, una tercera planta, esta vez, desalinizadora y una cuarta, productora de amoníaco (NH3). Esta asociación público-privada, ha modernizado su gestión medioambiental. Poseedora de estudios ambientales y sociales, educación e I+D, Total Eren y la Universidad de Magallanes representan además un espectro de colaboración universidad/empresa poco común en regiones. Pero, además, y esto es lo que se observa con mayor atención, el proyecto posee un Plan de Participación Ciudadana definido a partir del uso de buenas prácticas con la sociedad local. Y como las noticias buenas también son dignas de destacarse, la gerente de Total Eren, Fabienne Demol, espera que esta iniciativa, que compromete una inversión superior a las U$ 15 mil millones, logre convertirse en un destino de primer orden para “la inversión en hidrógeno verde en América Latina y satisfacer las necesidades de nuestros clientes en todo el mundo”. Previsto para que empiece a funcionar el año 2027, este complejo situado en la zona austral se viene a sumar a ENEL Green Power Chile; proyecto lleva varios años instalado en Cerro Pabellón y que se utiliza para energizar una planta de tratamiento de agua y parte del consumo del campamento base del mismo nombre. Es cierto, no es cooperación sur-sur, pero en el marco de las experiencias de energía, el rol estratégico de la zona austral y el potenciamiento de la Agenda 2030, es un paso hacia delante. Loreto Correa VeraInvestigadora de la Academia Nacional de Estudios Políticos y Estratégicos de Chile.Integrante del Proyecto CLAR 2030 sobre Internacionalización de Actores Subestatales para el Desarrollo Territorial. AGCID 2021. {{ post.resumen_de_ia }}', 'El denominado «hidrógeno verde», generado por energías renovables, está presente casi a diario en los medios de comunicación de varios países. Se ha convertido en una fuerte apuesta de Europa, EE.UU., Asia y Latinoamérica para lograr economías más limpias. El tema ha tomado relevancia frente al «cambio climático y la necesidad de descarbonizar nuestras economías», dijo la coordinadora del grupo de hidrógeno en la Unidad Ambiental del Ministerio de Industria Energía y Minería de Uruguay, María José González. El hidrógeno verde es un vector energético generado mediante un proceso que emplea fuentes de energías renovables y no contaminantes, como la solar y eólica, y por ello es visto como una alternativa para disminuir las emisiones de los llamados gases de efecto invernadero, causantes del recalentamiento planetario. Uno de los principales de estos gases es el dióxido de carbono, generado por la quema de combustibles fósiles como\\xa0el carbón, el petróleo y el gas natural. El principal uso del hidrógeno verde es en vehículos, pero también se utiliza como materia prima para algunos procesos industriales. Asimismo, se puede emplear en los hogares en la sustitución de gas natural o para producir fertilizantes verdes combinando el hidrógeno con el nitrógeno, explicó la ingeniera ambiental uruguaya. En la 26\\xa0Conferencia de las Partes (COP26) de la Convención Marco de las Naciones Unidas sobre el Cambio Climático, celebrada este mes en la ciudad escocesa de Glasgow, el hidrógeno verde fue un tema destacado. La Organización de las Naciones Unidas advierte que, si bien cada vez más países se comprometen a alcanzar la meta de cero emisiones contaminantes para 2050 —fecha límite considerada irreversible para mantener el calentamiento global por debajo de los 1,5 grados centígrados y garantizar así un clima habitable—, es necesario que alrededor de la mitad de los recortes se produzcan antes de 2030, o será demasiado tarde. González señaló que el hidrógeno verde es considerado una buena opción por parte de los países más comprometidos en alcanzar la «carbono neutralidad» (cero emisiones) para mediados de siglo. «Europa está poniendo metas muy ambiciosas, y con movilidad eléctrica no alcanza. Entonces el hidrógeno se posiciona mucho mejor y, enganchado a la baja [de los costos] de las energías renovables, ahí surge como una oportunidad nueva. Pero si no tuviéramos una meta de descarbonización, probablemente no», dijo la ingeniera ambiental. La experta admitió que «un vehículo con hidrógeno todavía es más caro que un vehículo que se mueve con diésel, pero se espera que en el mediano plazo esos costos se emparejen». Hidrógeno verde en Latinoamérica En Europa existen actualmente estaciones de servicio donde se puede recargar hidrógeno verde. Ya se nota en ese continente la circulación de automóviles y camiones que lo emplean como combustible, y un uso industrial marginal de este vector energético, contó la experta uruguaya. Mientras, en América Latina, varios países como\\xa0Brasil, Colombia, Chile y Uruguay\\xa0están financiando sus primeros proyectos pilotos para producirlo.Costa Rica, incluso, cuenta con una pequeña planta de producción destinada a su uso en autobuses, contó. En el caso de Argentina, este mes la compañía australiana Fortescue Future Industries anunció una inversión de casi 3.000 millones de dólares para producir y exportar hidrógeno verde en la provincia de Río Negro (Argentina, sur). Mientras que en\\xa0Paraguay, a fines de octubre pasado, James Spalding, exdirector de la empresa hidroeléctrica Itaipú Binacional, informó que la compañía británica Atome Energy PLC tiene intenciones de invertir en el país para producir hidrógeno ecológico y amoniaco, según publicó el diario paraguayo La Nación. González contó que, en Latinoamérica, «el primer proyecto piloto que está empezando a aterrizar un poco más es en el sur de\\xa0Chile, para producir un derivado del hidrógeno». «Se produce hidrógeno y se capta dióxido de carbono, y se produce un metanol que se usa para sustituir el combustible de aviación, el combustible marítimo», explicó. En octubre pasado, el Banco Mundial aseguró en su informe semestral regional que la producción y exportación de hidrógeno verde puede impulsar el repunte de la economía de América Latina y el Caribe tras los efectos negativos del COVID-19. Potencial de Uruguay González informó que en Uruguay el Gobierno va a lanzar un proyecto piloto de hidrógeno verde para transporte. «Se va a abrir la convocatoria lo más probable a principios del año que viene», indicó.El plan uruguayo consiste en la instalación de una pequeña planta de producción que se va a destinar al suministro de combustible para autobuses o camiones. La experta dijo que hay empresas internacionales que recorren países de la región interesadas en ver dónde es conveniente y factible producir hidrógeno ecológico. La ingeniera ambiental cree que Uruguay tiene un muy buen posicionamiento para ser elegido por esas compañías por varios motivos, y uno de ellos es que el país ya descarbonizó su matriz eléctrica.\\xa0El 97% de la energía eléctrica uruguaya es renovable. Se trata de la única nación de América Latina con esa tasa tan alta de energías renovables, destacó.Además, Uruguay tiene complementariedad entre la energía solar y eólica, lo que permite que los tiempos que puede estar operando la planta de hidrógeno sean más altos. Uruguay podría exportar hidrógeno verde en 2030, estimó, pero tal vez de los derivados de hidrógeno como los combustibles verdes, metanol, jet fuel «se podría comenzar a vender al exterior en 2025. Cortesía de María Eugenia Lima Sputnik Te podría interesar Investigación apunta a la viabilidad del uso de hidrógeno verde en las fundiciones de cobre']\u001b[0m\n",
      "Thought:\u001b[32;1m\u001b[1;3mAhora tengo información detallada acerca del hidrógeno verde. El hidrógeno verde es un tipo de hidrógeno que no emite CO2 durante su generación. Se puede producir mediante electrólisis, o utilizando energías renovables como la solar o eólica. Se le ve como una alternativa al creciente consumo de energía en el mundo y una forma de contrarrestar el cambio climático. Empresas globales de energía como Enel y Eni están trabajando para desarrollar proyectos de hidrógeno verde, y se espera que comiencen a generar hidrógeno verde en el período 2022-2023. El hidrógeno verde se utiliza en vehículos, y también como materia prima para algunos procesos industriales. Además, se puede utilizar en hogares en sustitución del gas natural o para producir fertilizantes verdes.\n",
      "Final Answer: El hidrógeno verde es un tipo de hidrógeno que no emite CO2 en su generación, y puede ser producido mediante electrólisis o usando energías renovables como la solar o eólica. Es considerado una alternativa al creciente consumo de energía mundial y una forma de luchar contra el cambio climático. Empresas líderes en energía a nivel mundial, como Enel y Eni, están desarrollando proyectos de hidrógeno verde, esperando comenzar a producirlo en el período 2022-2023. El hidrógeno verde puede utilizarse en vehículos, como materia prima para algunos procesos industriales, en sustitución de gas natural en hogares o para producir fertilizantes verdes.\u001b[0m\n",
      "\n",
      "\u001b[1m> Finished chain.\u001b[0m\n",
      "{'input': '¿Qué sabes sobre el hidrogeno verde', 'output': 'El hidrógeno verde es un tipo de hidrógeno que no emite CO2 en su generación, y puede ser producido mediante electrólisis o usando energías renovables como la solar o eólica. Es considerado una alternativa al creciente consumo de energía mundial y una forma de luchar contra el cambio climático. Empresas líderes en energía a nivel mundial, como Enel y Eni, están desarrollando proyectos de hidrógeno verde, esperando comenzar a producirlo en el período 2022-2023. El hidrógeno verde puede utilizarse en vehículos, como materia prima para algunos procesos industriales, en sustitución de gas natural en hogares o para producir fertilizantes verdes.'}\n"
     ]
    }
   ],
   "source": [
    "def search_tool(query):\n",
    "    search_results = search_in_chromadb(query)\n",
    "    return \"\\n\".join([str(doc) for doc in search_results['documents']])\n",
    "\n",
    "# Función para búsqueda en Wikipedia\n",
    "def wikipedia_search(query):\n",
    "    response = requests.get(f\"https://es.wikipedia.org/w/api.php\", params={\n",
    "        \"action\": \"query\",\n",
    "        \"format\": \"json\",\n",
    "        \"titles\": query,\n",
    "        \"prop\": \"extracts\",\n",
    "        \"exintro\": True\n",
    "    })\n",
    "    pages = response.json()['query']['pages']\n",
    "    page = next(iter(pages.values()))\n",
    "    return page.get('extract', \"No se encontró información en Wikipedia.\")\n",
    "# Crear herramientas\n",
    "tools = [\n",
    "    Tool(\n",
    "        name=\"ChromaDB Search\",\n",
    "        func=search_tool,\n",
    "        description=\"Busca en la base de datos de ChromaDB los documentos relevantes.\"\n",
    "    ),\n",
    "    Tool(\n",
    "        name=\"Wikipedia Search\",\n",
    "        func=wikipedia_search,\n",
    "        description=\"Consulta Wikipedia para obtener más información sobre el tema.\"\n",
    "    )\n",
    "]\n",
    "prompt_template = \"\"\"\n",
    "Eres un agente que puede interactuar con herramientas para obtener información relevante para responder preguntas. \n",
    "Tienes acceso a dos herramientas:\n",
    "\n",
    "1. **ChromaDB Search**: Busca en una base de datos de documentos para obtener información relevante.\n",
    "2. **Wikipedia Search**: Realiza una consulta a Wikipedia para obtener un resumen de un tema.\n",
    "\n",
    "Cuando recibas una pregunta, debes decidir qué herramienta usar y cómo responder de manera concisa y precisa. \n",
    "Si es posible, utiliza primero la búsqueda en ChromaDB, si no encuentras suficiente información, consulta Wikipedia.\n",
    "\"\"\"\n",
    "\n",
    "# Crear el PromptTemplate\n",
    "prompt = PromptTemplate(input_variables=[\"tools\", \"query\", \"agent_scratchpad\", \"tool_names\"], template=prompt_template)\n",
    "agent = initialize_agent(\n",
    "    tools=tools,\n",
    "    llm=llm,\n",
    "    agent_type=AgentType.ZERO_SHOT_REACT_DESCRIPTION,\n",
    "    verbose=True\n",
    ")\n",
    "\n",
    "\n"
   ]
  },
  {
   "cell_type": "code",
   "execution_count": 15,
   "metadata": {},
   "outputs": [
    {
     "name": "stdout",
     "output_type": "stream",
     "text": [
      "\n",
      "\n",
      "\u001b[1m> Entering new AgentExecutor chain...\u001b[0m\n",
      "\u001b[32;1m\u001b[1;3mPara responder a esta pregunta, necesito encontrar documentos o declaraciones recientes de Juan Carlos Jobet relacionados con el hidrógeno verde.\n",
      "Action: ChromaDB Search\n",
      "Action Input: Declaraciones de Juan Carlos Jobet sobre hidrógeno verde\u001b[0m\n",
      "Observation: \u001b[36;1m\u001b[1;3m['– Eliana Ximena Oyarzún Nancuante  “Les aseguro que este plan no va a quedar guardado en un cajón”, expresó el presidente Gabriel Boric, al momento de recibir el Plan de Acción de Hidrógeno Verde estructurado por un comité de diez expertos encabezados por el ex ministro de Energía del segundo gobierno de Sebastián Piñera, Juan Carlos Jobet. En su discurso la máxima autoridad nacional señaló que esta industria es una tremenda oportunidad que no se puede desaprovechar y que “el hidrógeno verde va a darnos mejores condiciones de vida”. El Mandatario confidenció que este es uno de los temas que mayor interés suscita en cada audiencia que tiene con líderes mundiales durante sus giras por Europa y Asia. En la ceremonia estuvieron presente la ex Presidenta Michelle Bachelet; el ex ministro de Energía, Juan Carlos Jobet, la rectora de la Universidad de Chile, Rosa Déves; el gobernador magallánico, Jorge Flies; entre otras autoridades. ¿En qué consiste en plan? El texto contempla 81 medidas, distribuidas en 18 líneas de trabajo, las que serán implementadas en dos etapas. La primera entre el 2023 y el 2026, explorará establecer las condiciones que permitan el desarrollo de la industria como un sistema de permisos eficientes, la existencia de incentivos tributarios y fomento a la investigación científica. A partir de 2026 y hasta 2030, se implementará la segunda etapa. Esta considera contar con\\xa0 instrumentos de ordenamiento territorial, regulatorios y preparar al capital humano para la concreción del desarrollo del H2V.', '– Eliana Ximena Oyarzún Nancuante “Les aseguro que este plan no va a quedar guardado en un cajón”, expresó el Presidente Gabriel Boric, al momento de recibir el Plan de Acción de Hidrógeno Verde realizado por un comité de diez expertos encabezados por el ex ministro de Energía del segundo gobierno de Sebastián Piñera, Juan Carlos Jobet. En su discurso la máxima autoridad del país señaló que esta industria es una tremenda oportunidad que no se puede desaprovechar y que “el hidrógeno verde va a darnos mejores condiciones de vida”. El Mandatario confidenció que este es uno de los temas que mayor interés suscita en cada audiencia que tiene con líderes mundiales durante sus giras por Europa y Asia. En la ceremonia estuvieron presentes la ex Presidenta Michelle Bachelet; el ex ministro de Energía, Juan Carlos Jobet, la rectora de la Universidad de Chile, Rosa Devés; el gobernador magallánico, Jorge Flies; entre otras autoridades. Todos ellos fueron parte de la comisión redactora de este plan. ¿En qué consiste el plan? El texto contempla 81 medidas, distribuidas en 18 líneas de trabajo, las que serán implementadas en dos etapas. La primera entre el 2023 y 2026, explorará establecer las condiciones que permitan el desarrollo de la industria como un sistema de permisos eficientes, la existencia de incentivos tributarios y fomento a la investigación científica. A partir de 2026 y hasta el 2030, se implementará la segunda etapa. Esta considera contar con\\xa0 instrumentos de ordenamiento territorial, regulatorios y preparar al capital humano para la concreción del desarrollo del H2V. Política de Estado El primer plan de Acción de Hidrógeno Verde fue realizado en 2020 durante el segundo gobierno de Sebastián Piñera. “Fue exitoso para atraer inversiones (…) ahora nos tenemos que poner acciones concretas y realizables”, expresó el ministro de Energía, Diego Pardow, quien definió esta estrategia como un esfuerzo del Estado que da certezas a una industria con un sinnúmero de incertidumbres. “Lo que se hizo fue pensar en Chile y lograr un acuerdo en el que todos puedan convivir”, dijo la ex Presidenta Michelle Bachelet durante la ceremonia. “Las cosas buenas no se hacen en cuatro años, son de largo plazo”, expresó en su alocución el ex ministro Jobet, quien valoró este plan porque todos los actores de la sociedad fueron capaces de sentarse en una mesa e imprimir esperanza. “No es fácil y menos en tiempos de polarización”, enfatizó. Durante su discurso el ex titular de Energía habló sobre las potencialidades que tiene esta industria para hacer frente al cambio climático y reducir las emisiones de gases de efecto invernadero. “Convierte rasgos geográficos negativos en energía para hacer el bien”, dijo haciendo referencia a lo difícil que es tener asentamientos humanos en la Patagonia a causa de las inclemencias climáticas. “El viento magallánico puede transformar la economía mundial”, sentenció. LECTURA:', 'Antes de que el ministro de Energía, Juan Carlos Jobet, asumiera en la cartera en junio de 2019, el Presidente Sebastián Piñera había viajado a China dos meses antes. \"Y cuando llegué al Ministerio, el Presidente me dijo que me metiera en el tema del hidrógeno verde, porque cuando estuvo allá se había dado cuenta del potencial enorme que había en torno a él.  Empecé a estudiarlo y nos dimos cuenta de que Chile tiene todo para ser potencia mundial \", cuenta Jobet. Poco más de un año después de la anécdota, la carrera mundial para producir el llamado \"combustible del futuro\" crece con fuerza. Es que la oportunidad de generar hidrógeno a bajo costo gracias a las energías renovables (de ahí el apellido de \"verde\"), promete incluso desplazar a los combustibles fósiles y hoy tiene al ministro ad portas de anunciar un hito en la materia:  una estrategia nacional, que trasciende al gobierno de turno, para su desarrollo. RelacionadasDetalle(1000610,1000331); \"Esto es grande, es un tema mundial, y en el análisis que hicimos nos dimos cuenta que teníamos que echar a andar un plan de largo plazo, que no fuera del Ministerio ni del Gobierno, sino que fuera una política de Estado\", dice a  Emol  el titular de Energía. Fue así que en mayo, Jobet convocó a un comité asesor para elaborar la hoja de ruta del hidrógeno verde en Chile, la cual será dada a conocer el próximo martes 3 de noviembre. La mesa de trabajo destaca por su variedad técnica, generacional y política. Está conformada por el ex Presidente  Ricardo Lagos ; la ex secretaria ejecutiva de la Comisión Nacional de Energía,  Vivianne Blanlot ; el ex ministro de Medio Ambiente del Gobierno de Michelle Bachelet,  Marcelo Mena ; el Champion de la COP25 y cofundador de Sistema B,  Gonzalo Muñoz ; la economista y directora de Observatorio Fiscal,  Jeannette von Wolfersdorff ; y el economista y consultor internacional,  Klaus Schmidt-Hebbel . Entre todos, incluido el ministro, tuvieron extensas reuniones de manera presencial y telemática para elaborar la estrategia, la cual cuenta con plazos definidos, montos estimados de inversión, cifras de cuántos empleos podrían crearse, medidas concretas y áreas específicas donde los proyectos podrían realizarse.  \"Según las estimaciones que tenemos, el 2050 podríamos estar exportando hidrógeno verde por un monto equivalente a lo que hoy día exportamos en cobre. Así de grande puede ser esto\" Juan Carlos Jobet \"Desde el comienzo dijimos que este plan tenía que tener metas hiperconcretas, ambiciosas, pero concretas, con tiempos definidos\", expresa Jobet. Así, y considerando que distintos países desarrollados como Alemania, Bélgica, Francia y Dinamarca ya han lanzado sus propias hojas de ruta respecto al tema, el ministro no duda al decir que con esta estrategia \" Chile quedará como el país líder de América Latina en hidrógeno verde, de hecho somos el país que más potencial tiene en el mundo \". Para dimensionar el caso, el titular de Energía revela que \"según las estimaciones que tenemos, el 2050 podríamos estar exportando hidrógeno verde por un monto equivalente a lo que hoy día exportamos en cobre. Así de grande puede ser esto. La gracia es que esto no es \\'en vez\\' del cobre, sino que \\'además\\' de él\". En 2019 Chile exportó US$33.564 millones en cobre, según el Banco Central. Actualmente existen cerca de 20 proyectos piloto en torno al hidrógeno verde en Chile , los cuales están siendo seguidos de cerca por Energía y que están en distintas etapas de desarrollo. \"Estamos ayudando a esos pilotos a avanzar\", dice Jobet y cuenta que algunos están enfocados en combustible para exportar, otros que son para transporte en la minería, otros para producción de amoniaco, algunos tienen que ver con grúas en la construcción, entre otros. RelacionadasDetalle(972653,1000834); De todas formas, explica que la estrategia cuenta con una primera fase en la que se va a fomentar el uso del hidrógeno verde a nivel local, donde uno de los usos es la minería y otro es el sector residencial. Con todo, Jobet revela que en la ruta hacia la carbono neutralidad que el país se propuso para 2050,  está calculado que el hidrógeno verde contribuya cerca de un 25% en la reducción de emisiones de gases de efecto invernadero del país. La visión del transversal comité asesor Todos los miembros del comité que fue convocado para cranear la estrategia nacional del hidrógeno verde, celebran el haber sido llamados y el que Chile tenga este combustible como meta en el horizonte. \" Acá Chile puede ser la solución a una parte relevante de las emisiones globales. Puede ser la Arabia Saudita de los combustibles cero emisión  que requiere el mundo para frenar el cambio climático. Pasa de ser un actor pequeño, a un player de peso en la economía del siglo XXI\", comenta el ex ministro de Energía,  Marcelo Mena .  \"Acá Chile puede ser la solución a una parte relevante de las emisiones globales. Puede ser la Arabia Saudita de los combustibles cero emisión que requiere el mundo para frenar el cambio climático. Pasa de ser un actor pequeño, a un player de peso en la economía del siglo XXI\" Marcelo Mena En esa línea, el ingeniero dice que ve la oportunidad de transitar desde una economía de recursos que se van a agotar (la minería) a una economía de recursos infinitos (el sol, y los combustibles renovables que podemos generar). \"V eo que si aprovecháramos el recurso solar que tenemos podríamos vender hasta US$320 mil millones al año  y suministrar energía equivalente a lo que consumen 350 millones de autos al año, reduciendo hasta 14% de las emisiones globales. Veo que el límite de lo que aprovechemos de esta oportunidad está en nuestras mentes\". Vivianne Blanlot , ex ministra de Defensa y economista de dos gobiernos de la Concertación, sostiene que \"sin duda el hidrógeno verde tiene el potencial de convertirse en una ventaja competitiva para Chile, en un mundo que necesariamente deberá acelerar el tránsito hacia una economía limpia\". Para Jobet, la participación de la actual vicepresidenta de Icare fue clave dado su rol actual como directora de Antofagasta Minerals, y su cercanía con el sector energético y empresarial. El Champion de la COP25,  Gonzalo Muñoz , es para el ministro \" el canciller del hidrógeno verde en Chile \", dada su amplia red de contactos internacionales con actores no gubernamentales que están detrás de la acción climática y la meta de la carbono neutralidad. Para él, la oportunidad del país está vinculada a que la industria marítima utilice \" amoniaco verde \" para los buques que llevan los productos de Chile a destino, generando cero emisiones. RelacionadasDetalle(1000331,974328); \"Para que eso ocurra debe instalarse una industria que produzca Amoniaco Verde a partir de Hidrógeno Verde, utilizando energías renovables. Eso implica que, para eliminar o reducir al máximo las emisiones del traslado de nuestros productos a los mercados de destino y por ende lograr la competitividad climática,  Chile tiene que aumentar considerablemente su capacidad de producir electricidad renovable \", sostiene Muñoz. La ex directora de la Bolsa de Santiago,  Jeanette von Wolfersdorff  expresa que \"en medio de nuestra situación actual en el país, considero es una señal especialmente importante -el impulso del hidrógeno verde-, porque muestra que  con voluntad, y una actitud de cooperación y colaboración, se pueden ir armando coaliciones público-privadas importantes , para impulsar inversiones e innovación que nuestro país tanto necesita\".  La participación de la economista fue clave también debido a sus vínculos con el gobierno alemán y el sector privado de dicho país, de hecho, durante el trabajo se realizó un estudio apoyado por la administración de dicho país y la sociedad de cooperación internacional, donde se recabó que  en Chile la inversión en hidrógeno verde podría implicar unos US$30 mil millones al 2050 y la creación de al menos 94 mil puestos de trabajo a ese año .  \"Imaginar una industria marítima con cero emisiones es necesario para Chile y a su vez se vincula a la descarbonización de muchas otras industrias de nuestro país\" Gonzalo Muñoz El destacado economista  Klaus Schmidt-Hebbel , quien se ha especializado en el último tiempo en materias relacionadas a la energía y el medio ambiente, también enfatiza que \"Chile tiene una enorme oportunidad por dos razones favorables. Primero, nuestro país cuenta con grandes ventajas comparativas y absolutas para producir H2 a precios de energías no convencionales y sustentables cada vez más baratas. Segundo, porque en temas estratégicos como estos, nuestro país (aún) tiene la capacidad de generar acuerdos políticos importantes, que trascienden a gobiernos puntuales.  Y, por eso, Chile puede ser líder mundial en la producción y exportación de hidrógeno verde \".']\u001b[0m\n",
      "Thought:\u001b[32;1m\u001b[1;3mA partir de las observaciones, puedo ver que Juan Carlos Jobet ha estado activamente involucrado en la promoción del hidrógeno verde en Chile. Ha participado en la creación de un Plan de Acción de Hidrógeno Verde y ha destacado la importancia de la industria del hidrógeno verde para el futuro de Chile. En sus declaraciones, Jobet ha resaltado el potencial que tiene el hidrógeno verde para mejorar las condiciones de vida, luchar contra el cambio climático y transformar la economía mundial. También mencionó que el desarrollo del hidrógeno verde podría llegar a ser tan significativo como las exportaciones de cobre de Chile. \n",
      "Final Answer: Juan Carlos Jobet ha declarado que el hidrógeno verde tiene un gran potencial para mejorar las condiciones de vida y para hacer frente al cambio climático. Ha participado en la creación de un Plan de Acción de Hidrógeno Verde y ha destacado que el desarrollo del hidrógeno verde puede transformar la economía mundial. Asegura que el hidrógeno verde podría llegar a ser tan significativo como las exportaciones de cobre de Chile. Además, ha enfatizado en la necesidad de tener una estrategia de largo plazo para su desarrollo que trascienda al gobierno de turno.\u001b[0m\n",
      "\n",
      "\u001b[1m> Finished chain.\u001b[0m\n",
      "{'input': '¿Qué déclaraciones ha realizado Juan Carlos Jobet en el contexto del hidrógeno verde?', 'output': 'Juan Carlos Jobet ha declarado que el hidrógeno verde tiene un gran potencial para mejorar las condiciones de vida y para hacer frente al cambio climático. Ha participado en la creación de un Plan de Acción de Hidrógeno Verde y ha destacado que el desarrollo del hidrógeno verde puede transformar la economía mundial. Asegura que el hidrógeno verde podría llegar a ser tan significativo como las exportaciones de cobre de Chile. Además, ha enfatizado en la necesidad de tener una estrategia de largo plazo para su desarrollo que trascienda al gobierno de turno.'}\n"
     ]
    }
   ],
   "source": [
    "# Ejecutar el agente con una consulta usando `invoke`\n",
    "query = \"¿Qué déclaraciones ha realizado Juan Carlos Jobet en el contexto del hidrógeno verde?\"\n",
    "response = agent.invoke(query)\n",
    "\n",
    "# Mostrar la respuesta\n",
    "print(response)\n"
   ]
  }
 ],
 "metadata": {
  "kernelspec": {
   "display_name": "Python 3",
   "language": "python",
   "name": "python3"
  },
  "language_info": {
   "codemirror_mode": {
    "name": "ipython",
    "version": 3
   },
   "file_extension": ".py",
   "mimetype": "text/x-python",
   "name": "python",
   "nbconvert_exporter": "python",
   "pygments_lexer": "ipython3",
   "version": "3.11.9"
  }
 },
 "nbformat": 4,
 "nbformat_minor": 2
}
